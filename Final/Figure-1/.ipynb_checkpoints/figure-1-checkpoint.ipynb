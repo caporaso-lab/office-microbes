{
 "cells": [
  {
   "cell_type": "code",
   "execution_count": 1,
   "metadata": {
    "collapsed": false
   },
   "outputs": [
    {
     "name": "stderr",
     "output_type": "stream",
     "text": [
      "/home/johnchase/.conda/envs/da/lib/python3.5/site-packages/matplotlib/__init__.py:872: UserWarning: axes.color_cycle is deprecated and replaced with axes.prop_cycle; please use the latter.\n",
      "  warnings.warn(self.msg_depr % (key, alt_key))\n"
     ]
    }
   ],
   "source": [
    "%matplotlib inline\n",
    "import pandas as pd\n",
    "from os.path import join\n",
    "import seaborn as sns\n",
    "import numpy as np\n",
    "from stats import mc_t_two_sample\n",
    "import itertools\n",
    "from IPython.display import SVG, display\n",
    "import xml.etree.ElementTree as ET\n",
    "ET.register_namespace(\"\",\"http://www.w3.org/2000/svg\")\n"
   ]
  },
  {
   "cell_type": "markdown",
   "metadata": {},
   "source": [
    "##Load the mapping file and add columns for each \"swatch\"\n"
   ]
  },
  {
   "cell_type": "code",
   "execution_count": 2,
   "metadata": {
    "collapsed": false
   },
   "outputs": [],
   "source": [
    "home = '/home/office-microbe-files'\n",
    "map_fp = join(home, 'master_map_150908.txt')\n",
    "alpha_div_fp = join(home, 'core_div_out/arare_max1000/alpha_div_collated/PD_whole_tree.txt')"
   ]
  },
  {
   "cell_type": "code",
   "execution_count": 3,
   "metadata": {
    "collapsed": true
   },
   "outputs": [],
   "source": [
    "sample_md = pd.read_csv(map_fp, sep='\\t', index_col=0, dtype=str)\n",
    "sample_md = sample_md[sample_md['16SITS'] == '16S']\n",
    "sample_md = sample_md[sample_md['OfficeSample'] == 'yes']\n",
    "sample_md['Meta'] = sample_md.Description.apply(lambda x: '.'.join(x.split('.')[:3]))\n",
    "sample_md = sample_md.drop(['16SITS', 'BarcodeSequence', 'BlankExtraction'], axis=1)\n",
    "sample_md['Swatch'] = sample_md['PlateLocation'].apply(lambda x: x.upper()[0]).values + '.' + sample_md['Row'].astype(str) + '.' + sample_md['Material'].apply(lambda x: x.title()[:2]).values"
   ]
  },
  {
   "cell_type": "markdown",
   "metadata": {},
   "source": [
    "##Filter the replicate ID's"
   ]
  },
  {
   "cell_type": "code",
   "execution_count": 4,
   "metadata": {
    "collapsed": true
   },
   "outputs": [],
   "source": [
    "replicate_ids = '''F2F.2.Ce.021\n",
    "F2F.2.Ce.022\n",
    "F2F.3.Ce.021\n",
    "F2F.3.Ce.022\n",
    "F2W.2.Ca.021\n",
    "F2W.2.Ca.022\n",
    "F2W.2.Ce.021\n",
    "F2W.2.Ce.022\n",
    "F3W.2.Ce.021\n",
    "F3W.2.Ce.022\n",
    "F1F.3.Ca.021\n",
    "F1F.3.Ca.022\n",
    "F1C.3.Ca.021\n",
    "F1C.3.Ca.022\n",
    "F1W.2.Ce.021\n",
    "F1W.2.Ce.022\n",
    "F1W.3.Dr.021\n",
    "F1W.3.Dr.022\n",
    "F1C.3.Dr.021\n",
    "F1C.3.Dr.022\n",
    "F2W.3.Dr.059\n",
    "F3F.2.Ce.078'''.split('\\n')"
   ]
  },
  {
   "cell_type": "code",
   "execution_count": 5,
   "metadata": {
    "collapsed": true
   },
   "outputs": [],
   "source": [
    "reps = sample_md[sample_md['Description'].isin(replicate_ids)]\n",
    "reps = reps.drop(reps.drop_duplicates('Description').index).index\n",
    "sample_md = sample_md.drop(reps, inplace=False)"
   ]
  },
  {
   "cell_type": "markdown",
   "metadata": {},
   "source": [
    "##Create map to svg\n",
    "The svg was created with illustrator. Each surface of interest has a unique color so that we can map new colors to it"
   ]
  },
  {
   "cell_type": "code",
   "execution_count": 6,
   "metadata": {
    "collapsed": false
   },
   "outputs": [],
   "source": [
    "swatches = {'#1FFFFF':'F.3.Ca', '#2FFFFF':'F.3.Ce', '#3FFFFF':'F.3.Dr',\n",
    "            '#4FFFFF':'F.2.Ca', '#5FFFFF':'F.2.Ce', '#6FFFFF':'F.2.Dr',\n",
    "            '#7FFFFF':'W.3.Ca', '#8FFFFF':'W.3.Ce', '#9FFFFF':'W.3.Dr',\n",
    "            '#10FFFF':'W.2.Ca', '#11FFFF':'W.2.Ce', '#12FFFF':'W.2.Dr',\n",
    "            '#13FFFF':'C.3.Ca', '#14FFFF':'C.3.Ce', '#15FFFF':'C.3.Dr',\n",
    "            '#16FFFF':'C.2.Ca', '#17FFFF':'C.2.Ce', '#18FFFF':'C.2.Dr'}\n",
    "\n",
    "inv_swatches = {v: k for k, v in swatches.items()}\n",
    "sample_md['SvgCols'] = sample_md.Swatch.map(inv_swatches)"
   ]
  },
  {
   "cell_type": "markdown",
   "metadata": {},
   "source": [
    "##Add the alpha diversity metrics to the mapping file\n"
   ]
  },
  {
   "cell_type": "code",
   "execution_count": 7,
   "metadata": {
    "collapsed": true
   },
   "outputs": [],
   "source": [
    "alpha_div = pd.read_csv(alpha_div_fp, sep='\\t', index_col=0)\n",
    "alpha_div = alpha_div.T.drop(['sequences per sample', 'iteration'])\n",
    "alpha_cols = [e for e in alpha_div.columns if '1000' in e]\n",
    "alpha_div = alpha_div[alpha_cols]\n",
    "sample_md = pd.concat([sample_md, alpha_div], axis=1, join='inner')\n",
    "sample_md['MeanAlpha'] = sample_md[alpha_cols].mean(axis=1)\n",
    "sample_md['MedianAlpha'] = sample_md[alpha_cols].median(axis=1)"
   ]
  },
  {
   "cell_type": "markdown",
   "metadata": {},
   "source": [
    "##Define a function that will take map values to the svg"
   ]
  },
  {
   "cell_type": "code",
   "execution_count": 8,
   "metadata": {
    "collapsed": true
   },
   "outputs": [],
   "source": [
    "def color_plot(df, output):\n",
    "    tree = ET.parse('office1.svg')\n",
    "    root = tree.getroot()\n",
    "    for child in root:\n",
    "        if 'fill' in child.attrib:\n",
    "            if child.attrib['fill'] in df.SvgCols.values:\n",
    "                child.attrib['fill'] = df[df['SvgCols'] == child.attrib['fill']]['Colors'].values.astype(str)[0]\n",
    "            elif child.attrib['fill'] in swatches.keys():\n",
    "                child.attrib['fill'] = '#FFFFFF'\n",
    "    tree.write(output)"
   ]
  },
  {
   "cell_type": "markdown",
   "metadata": {},
   "source": [
    "#Map colors to the office SVG "
   ]
  },
  {
   "cell_type": "markdown",
   "metadata": {},
   "source": [
    "Illustrate what this will look like"
   ]
  },
  {
   "cell_type": "code",
   "execution_count": 9,
   "metadata": {
    "collapsed": false
   },
   "outputs": [
    {
     "data": {
      "image/png": "[encoded data removed]",
      "text/plain": [
       "<matplotlib.figure.Figure at 0x7fd06a5b44e0>"
      ]
     },
     "metadata": {},
     "output_type": "display_data"
    }
   ],
   "source": [
    "colors = sns.color_palette(\"YlGnBu\", int(np.ceil(sample_md.MeanAlpha.max() - sample_md.MeanAlpha.min())))\n",
    "sns.palplot(colors)"
   ]
  },
  {
   "cell_type": "code",
   "execution_count": 10,
   "metadata": {
    "collapsed": true
   },
   "outputs": [],
   "source": [
    "col_interest = 'MeanAlpha'"
   ]
  },
  {
   "cell_type": "code",
   "execution_count": 11,
   "metadata": {
    "collapsed": false
   },
   "outputs": [],
   "source": [
    "alpha_colors = sample_md[[col_interest, 'City', 'OfficeNumber', 'Description', 'Event', 'Swatch', 'SvgCols']]\n",
    "alpha_colors = alpha_colors[(alpha_colors['City'] == 'sandiego') & \n",
    "             (alpha_colors['OfficeNumber'] == '1') & \n",
    "             (alpha_colors['Event'] == '70')]\n",
    "\n",
    "alpha_colors = alpha_colors[alpha_colors[col_interest].notnull()]"
   ]
  },
  {
   "cell_type": "code",
   "execution_count": 12,
   "metadata": {
    "collapsed": false
   },
   "outputs": [],
   "source": [
    "colors = sns.color_palette(\"YlGnBu\", int(np.ceil(alpha_colors[col_interest].max() - alpha_colors[col_interest].min())))\n",
    "alpha_colors['Colors'] = [colors.as_hex()[int(e-alpha_colors[col_interest].min())] for e in alpha_colors[col_interest].values]"
   ]
  },
  {
   "cell_type": "markdown",
   "metadata": {},
   "source": [
    "##Create a figure for every season, city, office combination (12 total)"
   ]
  },
  {
   "cell_type": "code",
   "execution_count": 13,
   "metadata": {
    "collapsed": false
   },
   "outputs": [],
   "source": [
    "df_fig = sample_md.groupby(['City', 'Period', 'Swatch']).agg('median').reset_index()\n",
    "df_fig['SvgCols'] = df_fig.Swatch.map(inv_swatches)"
   ]
  },
  {
   "cell_type": "code",
   "execution_count": 14,
   "metadata": {
    "collapsed": false
   },
   "outputs": [],
   "source": [
    "col_interest = 'MeanAlpha'\n",
    "colors = sns.color_palette(\"YlGnBu\", int(np.ceil(df_fig[col_interest].max() - df_fig[col_interest].min())))\n",
    "df_fig['Colors'] = [colors.as_hex()[int(e-df_fig[col_interest].min())] for e in df_fig[col_interest].values]"
   ]
  },
  {
   "cell_type": "code",
   "execution_count": 15,
   "metadata": {
    "collapsed": false
   },
   "outputs": [],
   "source": [
    "for city in df_fig.City.unique():\n",
    "    for period in df_fig.Period.unique():\n",
    "        color_plot(df_fig[(df_fig['City'] == city) & (df_fig['Period'] == period)], '{0}_{1}.svg'.format(city, period))"
   ]
  },
  {
   "cell_type": "code",
   "execution_count": 16,
   "metadata": {
    "collapsed": false
   },
   "outputs": [
    {
     "data": {
      "image/svg+xml": [
       "<svg enable-background=\"new -374 -127.951 1280 720\" height=\"720px\" overflow=\"visible\" version=\"1.1\" viewBox=\"-374 -127.951 1280 720\" width=\"1280px\" x=\"0px\" xml:space=\"preserve\" xmlns=\"http://www.w3.org/2000/svg\" y=\"0px\">\n",
       "<defs>\n",
       "</defs>\n",
       "<g>\n",
       "\t<path d=\"M136.239,16.778c5.458,0.676,14.12,2.856,19.248,4.845l48.708,18.888   c5.128,1.989,13.771,2.936,19.208,2.105l33.962-5.188c5.437-0.831,13.751,0.793,18.476,3.608l19.143,11.405   c4.725,2.815,12.943,3.977,18.264,2.583l40.44-10.6c5.32-1.395,13.916-1.037,19.102,0.795l31.849,11.25   c5.186,1.832,13.237,5.728,17.892,8.658l18.643,11.734c4.654,2.93,12.872,6.227,18.261,7.326l2.351,0.479   c5.389,1.1,14.277,2.427,19.753,2.949l3.55,0.339c5.476,0.522,13.656,1.254,18.18,1.626c4.523,0.372,4.166,2.62-0.794,4.996   l-30.938,14.987c-4.96,2.376-13.519,4.486-19.019,4.486H131c-5.5,0-13.321-3.203-17.379-6.915L3.379,6.235   c-4.059-3.711-2.914-6.237,2.545-5.561L136.239,16.778z\" fill=\"#F2F2F2\"/>\n",
       "\t<path d=\"M136.239,16.778c5.458,0.676,14.12,2.856,19.248,4.845l48.708,18.888   c5.128,1.989,13.771,2.936,19.208,2.105l33.962-5.188c5.437-0.831,13.751,0.793,18.476,3.608l19.143,11.405   c4.725,2.815,12.943,3.977,18.264,2.583l40.44-10.6c5.32-1.395,13.916-1.037,19.102,0.795l31.849,11.25   c5.186,1.832,13.237,5.728,17.892,8.658l18.643,11.734c4.654,2.93,12.872,6.227,18.261,7.326l2.351,0.479   c5.389,1.1,14.277,2.427,19.753,2.949l3.55,0.339c5.476,0.522,13.656,1.254,18.18,1.626c4.523,0.372,4.166,2.62-0.794,4.996   l-30.938,14.737c-4.96,2.376-13.519,4.236-19.019,4.236H131c-5.5,0-13.321-2.953-17.379-6.665L3.379,6.11   c-4.059-3.711-2.914-6.174,2.545-5.498L136.239,16.778z\" fill=\"none\" stroke=\"#000000\" stroke-miterlimit=\"10\"/>\n",
       "</g>\n",
       "<g>\n",
       "\t<path d=\"M134.973,394.62c5.454-0.713,14.08-3.002,19.169-5.087l47.975-19.648   c5.089-2.085,13.696-3.073,19.126-2.197l33.293,5.372c5.43,0.876,13.681-0.804,18.336-3.732l18.927-11.91   c4.655-2.929,12.801-4.125,18.102-2.657l39.738,11.001c5.301,1.468,13.854,1.095,19.007-0.827l31.31-11.681   c5.153-1.922,13.116-5.986,17.697-9.031l18.453-12.267c4.581-3.045,12.728-6.483,18.104-7.643l2.111-0.454   c5.376-1.158,14.253-2.558,19.725-3.109l3.259-0.329c5.472-0.552,13.603-1.32,18.067-1.708c4.465-0.387,4.103-2.735-0.805-5.219   l-30.496-15.179c-4.907-2.483-13.423-4.265-18.923-4.265H130.052c-5.5,0-13.237,2.876-17.193,6.697L3.86,405.894   c-3.956,3.821-2.731,6.301,2.723,5.587L134.973,394.62z\" fill=\"#DADEE0\"/>\n",
       "\t<path d=\"M134.973,394.62c5.454-0.713,14.08-3.002,19.169-5.087l47.975-19.648   c5.089-2.085,13.696-3.073,19.126-2.197l33.293,5.372c5.43,0.876,13.681-0.804,18.336-3.732l18.927-11.91   c4.655-2.929,12.801-4.125,18.102-2.657l39.738,11.001c5.301,1.468,13.854,1.095,19.007-0.827l31.31-11.681   c5.153-1.922,13.116-5.986,17.697-9.031l18.453-12.267c4.581-3.045,12.728-6.483,18.104-7.643l2.111-0.454   c5.376-1.158,14.253-2.558,19.725-3.109l3.259-0.329c5.472-0.552,13.603-1.32,18.067-1.708c4.465-0.387,4.103-2.735-0.805-5.219   l-30.496-15.429c-4.907-2.483-13.423-4.515-18.923-4.515H130.052c-5.5,0-13.237,3.126-17.193,6.947L3.86,405.769   c-3.956,3.821-2.731,6.363,2.723,5.649L134.973,394.62z\" fill=\"none\" stroke=\"#000000\" stroke-miterlimit=\"10\"/>\n",
       "</g>\n",
       "<polygon fill=\"#D8D8D8\" points=\"0.5,409.673 117.5,300.383 117.5,109.55 0.5,2.046 \" stroke=\"#000000\" stroke-miterlimit=\"10\"/>\n",
       "<rect fill=\"#E6E6E6\" height=\"191\" stroke=\"#000000\" stroke-miterlimit=\"10\" width=\"352\" x=\"117.5\" y=\"109.549\"/>\n",
       "<g>\n",
       "\t<path d=\"M246,251.049c0,1.657-1.343,3-3,3H127c-1.657,0-3-1.343-3-3v-101c0-1.657,1.343-3,3-3h116   c1.657,0,3,1.343,3,3V251.049z\" fill=\"#FFFFFF\"/>\n",
       "\t<path d=\"M246.5,250.549c0,1.657-1.343,3-3,3h-116c-1.657,0-3-1.343-3-3v-101   c0-1.657,1.343-3,3-3h116c1.657,0,3,1.343,3,3V250.549z\" fill=\"none\" stroke=\"#000000\" stroke-miterlimit=\"10\"/>\n",
       "</g>\n",
       "<circle cx=\"148.867\" cy=\"184.413\" fill=\"#90d4b9\" r=\"12.372\" stroke=\"#000000\" stroke-miterlimit=\"10\"/>\n",
       "<circle cx=\"225.343\" cy=\"218.902\" fill=\"#daf0b3\" r=\"12.371\" stroke=\"#000000\" stroke-miterlimit=\"10\"/>\n",
       "<circle cx=\"225.343\" cy=\"184.413\" fill=\"#e8f6b1\" r=\"12.371\" stroke=\"#000000\" stroke-miterlimit=\"10\"/>\n",
       "<circle cx=\"187.106\" cy=\"218.902\" fill=\"#dff2b2\" r=\"12.371\" stroke=\"#000000\" stroke-miterlimit=\"10\"/>\n",
       "<circle cx=\"148.867\" cy=\"218.902\" fill=\"#abdeb7\" r=\"12.372\" stroke=\"#000000\" stroke-miterlimit=\"10\"/>\n",
       "<circle cx=\"187.856\" cy=\"184.413\" fill=\"#dff2b2\" r=\"12.371\" stroke=\"#000000\" stroke-miterlimit=\"10\"/>\n",
       "<g>\n",
       "\t<path d=\"M242.954,346.045c-0.073,1.648-1.483,3.004-3.133,3.004H84.053c-1.65,0-2.061-0.977-0.913-2.162   l38.905-39.93c1.148-1.186,3.437-1.908,5.087-1.908h114.657c1.65,0,2.94,1.103,2.867,2.751L242.954,346.045z\" fill=\"#FFFFFF\"/>\n",
       "\t<path d=\"M242.954,345.795c-0.073,1.648-1.483,2.754-3.133,2.754H84.053   c-1.65,0-2.061-0.727-0.913-1.912l38.905-40.055c1.148-1.186,3.437-2.033,5.087-2.033l114.657,0.001c1.65,0,2.94,1.228,2.867,2.876   L242.954,345.795z\" fill=\"none\" stroke=\"#000000\" stroke-miterlimit=\"10\"/>\n",
       "</g>\n",
       "<path d=\"M151.233,317.541c-1.842,2.584-9.591,4.755-17.25,4.755  s-11.914-2.171-9.579-4.755c2.251-2.496,9.834-4.456,17.006-4.456C148.584,313.084,153.008,315.044,151.233,317.541z\" fill=\"#2a9ec1\" stroke=\"#000000\" stroke-miterlimit=\"10\"/>\n",
       "<path d=\"M232.44,331.649c-0.381,3.139-7.554,5.777-16.012,5.777  c-8.456,0-14.487-2.638-13.507-5.776c0.941-3.017,8.056-5.376,15.925-5.378C226.714,326.273,232.806,328.635,232.44,331.649z\" fill=\"#3cb1c3\" stroke=\"#000000\" stroke-miterlimit=\"10\"/>\n",
       "<path d=\"M234.151,317.537c-0.313,2.589-6.784,4.756-14.442,4.756  c-7.658,0.003-13.19-2.166-12.384-4.754c0.779-2.494,7.206-4.454,14.381-4.454C228.877,313.084,234.456,315.044,234.151,317.537z\" fill=\"#1f7db6\" stroke=\"#000000\" stroke-miterlimit=\"10\"/>\n",
       "<path d=\"M186.818,331.649c-1.308,3.139-9.259,5.778-17.715,5.778  c-8.459-0.001-13.711-2.639-11.804-5.777c1.832-3.015,9.642-5.377,17.51-5.376C182.676,326.272,188.073,328.635,186.818,331.649z\" fill=\"#57bec1\" stroke=\"#000000\" stroke-miterlimit=\"10\"/>\n",
       "<path d=\"M141.196,331.65c-2.23,3.138-10.964,5.777-19.418,5.777  c-8.458,0-12.934-2.64-10.102-5.777c2.723-3.015,11.227-5.377,19.097-5.377C138.641,326.272,143.343,328.635,141.196,331.65z\" fill=\"#99d7b8\" stroke=\"#000000\" stroke-miterlimit=\"10\"/>\n",
       "<path d=\"M193.506,317.539c-1.06,2.588-8.161,4.754-15.819,4.757  c-7.66,0-12.564-2.17-11.009-4.756c1.501-2.495,8.493-4.455,15.667-4.455C189.517,313.084,194.53,315.044,193.506,317.539z\" fill=\"#2076b3\" stroke=\"#000000\" stroke-miterlimit=\"10\"/>\n",
       "<g>\n",
       "\t<path d=\"M242.225,60.046c-0.071-1.648-1.479-2.997-3.129-2.997H81c-1.65,0-2.046,0.956-0.881,2.124l44.168,44.253   c1.166,1.168,3.469,2.124,5.119,2.124l111.785-0.002c1.65,0,2.942-1.349,2.871-2.997L242.225,60.046z\" fill=\"#FFFFFF\"/>\n",
       "\t<path d=\"M242.225,60.296c-0.071-1.648-1.479-2.747-3.129-2.747H81   c-1.65,0-2.046,0.706-0.881,1.874l44.168,44.128c1.166,1.168,3.469,2.061,5.119,2.061l111.785-0.034   c1.65,0,2.942-1.239,2.871-2.888L242.225,60.296z\" fill=\"none\" stroke=\"#000000\" stroke-miterlimit=\"10\"/>\n",
       "</g>\n",
       "<path d=\"M152.358,91.336c-2.007-2.815-9.843-5.185-17.428-5.185  c-7.584,0-11.588,2.37-9.037,5.185c2.451,2.705,10.083,4.82,17.133,4.82S154.285,94.041,152.358,91.336z\" fill=\"#abdeb7\" stroke=\"#000000\" stroke-miterlimit=\"10\"/>\n",
       "<path d=\"M232.372,75.832c-0.404-3.499-7.617-6.454-16.096-6.454  c-8.479,0-14.444,2.955-13.365,6.454c1.03,3.344,8.172,5.95,15.989,5.95C226.719,81.783,232.754,79.176,232.372,75.832z\" fill=\"#e3f4b2\" stroke=\"#000000\" stroke-miterlimit=\"10\"/>\n",
       "<path d=\"M234.153,91.336c-0.324-2.816-6.743-5.185-14.328-5.185  c-7.584,0-13.004,2.37-12.137,5.185c0.835,2.706,7.204,4.82,14.253,4.82C228.992,96.155,234.465,94.042,234.153,91.336z\" fill=\"#daf0b3\" stroke=\"#000000\" stroke-miterlimit=\"10\"/>\n",
       "<path d=\"M186.841,75.832c-1.447-3.499-9.545-6.454-18.025-6.454  s-13.561,2.956-11.436,6.454c2.029,3.344,9.949,5.95,17.768,5.95C182.964,81.782,188.224,79.176,186.841,75.832z\" fill=\"#daf0b3\" stroke=\"#000000\" stroke-miterlimit=\"10\"/>\n",
       "<path d=\"M141.311,75.832c-2.494-3.499-11.474-6.454-19.954-6.454  c-8.479,0-12.678,2.955-9.508,6.454c3.028,3.344,11.729,5.95,19.547,5.95C139.211,81.782,143.692,79.176,141.311,75.832z\" fill=\"#a2dbb8\" stroke=\"#000000\" stroke-miterlimit=\"10\"/>\n",
       "<path d=\"M194.057,91.336c-1.148-2.815-8.263-5.185-15.847-5.185  c-7.583,0-12.31,2.37-10.616,5.185c1.626,2.705,8.613,4.819,15.663,4.82C190.309,96.155,195.16,94.041,194.057,91.336z\" fill=\"#daf0b3\" stroke=\"#000000\" stroke-miterlimit=\"10\"/>\n",
       "<g>\n",
       "\t<polygon fill=\"#F2F2F2\" points=\"20,112.379 99,155.195 99,232.243 20,245.386  \"/>\n",
       "\t<path d=\"M24,119.097l71,38.48v71.277l-71,11.812V119.049 M16,105.661v144.446l87-14.475v-82.819L16,105.661   L16,105.661z\" fill=\"#808080\"/>\n",
       "\t<polygon fill=\"none\" points=\"103,235.632 16,250.107 16,105.661    103,152.813  \" stroke=\"#999999\" stroke-miterlimit=\"10\" stroke-width=\"6\"/>\n",
       "</g>\n",
       "<rect fill=\"#FFFFFF\" height=\"3\" stroke=\"#000000\" stroke-miterlimit=\"10\" width=\"154\" x=\"304.5\" y=\"237.549\"/>\n",
       "<rect fill=\"#FFFFFF\" height=\"9\" stroke=\"#000000\" stroke-miterlimit=\"10\" width=\"158\" x=\"301.5\" y=\"227.549\"/>\n",
       "<rect fill=\"#FFFFFF\" height=\"79\" stroke=\"#000000\" stroke-miterlimit=\"10\" width=\"3\" x=\"456.5\" y=\"236.549\"/>\n",
       "<rect fill=\"#FFFFFF\" height=\"79\" stroke=\"#000000\" stroke-miterlimit=\"10\" width=\"3\" x=\"301.5\" y=\"236.549\"/>\n",
       "<rect fill=\"#FFFFFF\" height=\"2\" stroke=\"#000000\" stroke-miterlimit=\"10\" width=\"152\" x=\"304.5\" y=\"270.549\"/>\n",
       "<g>\n",
       "\t<rect fill=\"#FFFFFF\" height=\"40\" width=\"70\" x=\"355\" y=\"177.049\"/>\n",
       "\t<path d=\"M422,180.049v35h-65v-35H422 M427,175.049h-75v45h75V175.049L427,175.049z\"/>\n",
       "\t<rect fill=\"none\" height=\"45\" stroke=\"#4D4D4D\" stroke-miterlimit=\"10\" stroke-width=\"5\" width=\"75\" x=\"352.5\" y=\"174.549\"/>\n",
       "</g>\n",
       "<polyline fill=\"none\" points=\"357.623,208.549 379.957,194.049   396.598,207.299 420.245,190.049 \" stroke=\"#D8CFCA\" stroke-miterlimit=\"10\" stroke-width=\"5\"/>\n",
       "<rect fill=\"#808080\" height=\"8\" stroke=\"#000000\" stroke-miterlimit=\"10\" width=\"22\" x=\"368.5\" y=\"220.549\"/>\n",
       "<path d=\"M357.667,227.715c0-20.986,14.684-14.999,32.449-14.999  c17.767,0,31.885-5.987,31.885,14.999c0,20.987-14.684,26-32.449,26S357.667,248.703,357.667,227.715z\" stroke=\"#000000\" stroke-miterlimit=\"10\"/>\n",
       "<rect height=\"21\" stroke=\"#000000\" stroke-miterlimit=\"10\" width=\"7\" x=\"386.5\" y=\"279.549\"/>\n",
       "<rect height=\"13\" stroke=\"#000000\" stroke-miterlimit=\"10\" width=\"5\" x=\"387.5\" y=\"254.549\"/>\n",
       "<g>\n",
       "\t<path d=\"M424.334,274.799c0,3.85-4.488,7.194-9.975,7.584l-15.217,1.02c-5.486,0.39-14.463,0.346-19.947-0.06l-13.889-1.041   c-5.484-0.405-9.973-3.646-9.973-7.495s4.5-6.758,10-6.758h49C419.834,268.049,424.334,270.95,424.334,274.799z\"/>\n",
       "\t<path d=\"M424.334,274.549c0,3.85-4.488,7.319-9.975,7.709l-15.217,1.082   c-5.486,0.39-14.463,0.377-19.947-0.028l-13.889-1.025c-5.484-0.405-9.973-3.888-9.973-7.737s4.5-7,10-7h49   C419.834,267.549,424.334,270.7,424.334,274.549z\" fill=\"none\" stroke=\"#000000\" stroke-miterlimit=\"10\"/>\n",
       "</g>\n",
       "<path d=\"M354.314,271.749c-0.164-0.384-0.088-0.676-0.127-1.106  c-0.049-0.544-0.087-0.505-0.248-0.958c-0.354-0.996-0.473-1.956-0.547-3.043c-0.207-3.035-0.143-6.021-0.143-9.104  c0-1.895,0.108-3.591-0.076-5.442c-0.175-1.751-0.234-4.632,0.748-5.859c0.166-0.208,0.412-0.317,0.535-0.476  c0.121-0.154,0.109-0.477,0.276-0.633c0.289-0.27,1.085-0.468,0.628-1.38c-0.22-0.438-1.334-0.39-1.747-0.438  c-0.773-0.094-1.586,0.002-2.364,0.002c-1.127,0-2.645-0.266-3.252,1.127c-0.937,2.152,1.492,2.473,2.429,2.816  c0.576,2.092-0.22,4.68-0.117,6.86c0.05,1.063,0.284,2.109,0.321,3.147c0.021,0.576-0.122,1.371-0.166,1.979  c-0.105,1.466-0.142,3.272-0.027,4.726c0.078,0.994,0.077,1.982,0.125,3.016c0.04,0.868,0.393,1.637,0.486,2.505  c0.104,0.96-0.089,1.677,0.393,2.41c0.244,0.374,0.669,0.745,0.996,1.021c0.894,0.756,1.698,1.501,2.75,1.506L355,274.34  c0.108-0.002,0.231-0.112,0.365-0.096c0.125-0.684,0.1-1.514,0.062-2.242C354.907,272.081,354.648,272.527,354.314,271.749z\" stroke=\"#000000\" stroke-miterlimit=\"10\"/>\n",
       "<path d=\"M424.973,271.749c0.164-0.384,0.088-0.676,0.127-1.106  c0.049-0.544,0.087-0.505,0.248-0.958c0.354-0.996,0.473-1.956,0.547-3.043c0.207-3.035,0.143-6.021,0.143-9.104  c0-1.895-0.108-3.591,0.076-5.442c0.175-1.751,0.234-4.632-0.748-5.859c-0.166-0.208-0.412-0.317-0.535-0.476  c-0.121-0.154-0.109-0.477-0.276-0.633c-0.289-0.27-1.085-0.468-0.628-1.38c0.22-0.438,1.334-0.39,1.747-0.438  c0.773-0.094,1.586,0.002,2.364,0.002c1.127,0,2.645-0.266,3.252,1.127c0.937,2.152-1.492,2.473-2.429,2.816  c-0.576,2.092,0.22,4.68,0.117,6.86c-0.05,1.063-0.284,2.109-0.321,3.147c-0.021,0.576,0.122,1.371,0.166,1.979  c0.105,1.466,0.142,3.272,0.027,4.726c-0.078,0.994-0.077,1.982-0.125,3.016c-0.04,0.868-0.393,1.637-0.486,2.505  c-0.104,0.96,0.089,1.677-0.393,2.41c-0.244,0.374-0.669,0.745-0.996,1.021c-0.894,0.756-1.698,1.501-2.75,1.506l0.188-0.084  c-0.108-0.002-0.231-0.112-0.365-0.096c-0.125-0.684-0.1-1.514-0.062-2.242C424.38,272.081,424.639,272.527,424.973,271.749z\" stroke=\"#000000\" stroke-miterlimit=\"10\"/>\n",
       "<path d=\"M389.519,300.851c-1.925-0.092-3.858-0.131-5.771-0.136  l0.551,0.118c-4.104,0-8.265-0.161-12.364,0c-1.766,0.069-3.24,0.882-4.985,1.071c-0.795,0.088-1.691-0.008-2.497-0.008  c-2.171,0-4.198,0.021-6.156,0.605c-1.568,0.47-3.471,0.97-4.557,2.104c-0.745,0.778-0.7,1.95-1.272,2.843  c-1.137,1.77-1.132,3.212,0.306,4.968c1.573,1.921,4.56,1.65,6.229,0.007c0.891-0.879,1.057-1.674,0.933-2.844  c-0.115-1.07-1.024-1.707-0.814-2.819c3.242-0.164,6.5-0.136,9.762-0.136c1.793,0,6.78-0.722,7.881,0.446  c1.138,1.206-4.127,3.604-5.429,4.255c-1.049,0.524-1.57,1.057-2.414,1.709c-1.175,0.906-2.358,1.215-2.518,2.691  c-0.12,1.102,0.171,2.041-0.388,2.962c-0.705,1.161-0.933,1.103-0.336,2.298c1.014,2.035,2.242,2.497,4.962,2.279  c2.019-0.16,4.563-1.759,3.332-3.516c-0.547-0.779-1.18-1.092-0.685-2.04c0.473-0.905,1.845-1.58,2.617-2.341  c2.292-2.247,4.732-3.344,7.609-4.932c1.974-1.088,4.253-0.404,6.409-0.992C390.089,306.533,389.783,303.644,389.519,300.851z\" stroke=\"#000000\" stroke-miterlimit=\"10\" stroke-width=\"0.5\"/>\n",
       "<path d=\"M390.096,300.851c1.925-0.092,3.858-0.131,5.771-0.136  l-0.551,0.118c4.104,0,8.265-0.161,12.363,0c1.767,0.069,3.24,0.882,4.986,1.071c0.795,0.088,1.691-0.008,2.497-0.008  c2.171,0,4.197,0.021,6.156,0.605c1.568,0.47,3.471,0.97,4.557,2.104c0.745,0.778,0.7,1.95,1.272,2.843  c1.137,1.77,1.132,3.212-0.306,4.968c-1.573,1.921-4.56,1.65-6.229,0.007c-0.891-0.879-1.057-1.674-0.933-2.844  c0.114-1.07,1.024-1.707,0.814-2.819c-3.242-0.164-6.5-0.136-9.763-0.136c-1.792,0-6.779-0.722-7.881,0.446  c-1.137,1.206,4.127,3.604,5.43,4.255c1.048,0.524,1.57,1.057,2.414,1.709c1.175,0.906,2.358,1.215,2.518,2.691  c0.12,1.102-0.172,2.041,0.388,2.962c0.705,1.161,0.933,1.103,0.336,2.298c-1.014,2.035-2.243,2.497-4.962,2.279  c-2.019-0.16-4.563-1.759-3.332-3.516c0.547-0.779,1.18-1.092,0.685-2.04c-0.473-0.905-1.845-1.58-2.618-2.341  c-2.291-2.247-4.731-3.344-7.608-4.932c-1.974-1.088-4.253-0.404-6.409-0.992C389.525,306.533,389.831,303.644,390.096,300.851z\" stroke=\"#000000\" stroke-miterlimit=\"10\" stroke-width=\"0.5\"/>\n",
       "</svg>"
      ],
      "text/plain": [
       "<IPython.core.display.SVG object>"
      ]
     },
     "execution_count": 16,
     "metadata": {},
     "output_type": "execute_result"
    }
   ],
   "source": [
    "SVG(filename='flagstaff_1.svg')"
   ]
  },
  {
   "cell_type": "markdown",
   "metadata": {},
   "source": [
    "##Alpha Diversity statistics"
   ]
  },
  {
   "cell_type": "markdown",
   "metadata": {},
   "source": [
    "##Get statisitics for period 1 vs all other periods for all cities"
   ]
  },
  {
   "cell_type": "markdown",
   "metadata": {},
   "source": [
    "negative values in the following statistics indicate that that the period on the left is less diverse than the period on the right"
   ]
  },
  {
   "cell_type": "code",
   "execution_count": 17,
   "metadata": {
    "collapsed": false
   },
   "outputs": [
    {
     "name": "stdout",
     "output_type": "stream",
     "text": [
      "City flagstaff Period 1-Period 3 t-stat: -5.3921848193025745 p-value: 1.2529272711768162e-07 n=(230, 137)\n",
      "City flagstaff Period 1-Period 2 t-stat: -3.1684160036776112 p-value: 0.0016713337225163151 n=(230, 113)\n",
      "City flagstaff Period 1-Period 4 t-stat: -0.1572455000169197 p-value: 0.8751333759296064 n=(230, 159)\n",
      "City flagstaff Period 3-Period 2 t-stat: 1.4883045997054063 p-value: 0.13794102677082898 n=(137, 113)\n",
      "City flagstaff Period 3-Period 4 t-stat: 3.9495599783164397 p-value: 9.806690321556566e-05 n=(137, 159)\n",
      "City flagstaff Period 2-Period 4 t-stat: 2.255130360929652 p-value: 0.024926233878212578 n=(113, 159)\n",
      "\n",
      "\n",
      "City sandiego Period 1-Period 3 t-stat: -7.9060762878411746 p-value: 4.7800646705579597e-14 n=(194, 116)\n",
      "City sandiego Period 1-Period 2 t-stat: -11.020648353688685 p-value: 7.995686451708489e-24 n=(194, 98)\n",
      "City sandiego Period 1-Period 4 t-stat: -4.84029089462673 p-value: 1.8533977652925293e-06 n=(194, 209)\n",
      "City sandiego Period 3-Period 2 t-stat: -1.9603822231506167 p-value: 0.05126110489329505 n=(116, 98)\n",
      "City sandiego Period 3-Period 4 t-stat: 2.5449788810259655 p-value: 0.011393211073663645 n=(116, 209)\n",
      "City sandiego Period 2-Period 4 t-stat: 4.564268845894895 p-value: 7.276715698445457e-06 n=(98, 209)\n",
      "\n",
      "\n",
      "City toronto Period 1-Period 3 t-stat: -6.2679754350706505 p-value: 1.402416962545638e-09 n=(164, 114)\n",
      "City toronto Period 1-Period 2 t-stat: -6.604892440768734 p-value: 2.3299851556062013e-10 n=(164, 91)\n",
      "City toronto Period 1-Period 4 t-stat: -3.015941550497224 p-value: 0.0027558844401092976 n=(164, 176)\n",
      "City toronto Period 3-Period 2 t-stat: 0.3004104298878356 p-value: 0.7641715336191868 n=(114, 91)\n",
      "City toronto Period 3-Period 4 t-stat: 3.557819877693147 p-value: 0.00043713183656590715 n=(114, 176)\n",
      "City toronto Period 2-Period 4 t-stat: 3.326940454900535 p-value: 0.0010023348492522732 n=(91, 176)\n",
      "\n",
      "\n"
     ]
    }
   ],
   "source": [
    "for city in sample_md.City.unique():\n",
    "    for period1, period2 in itertools.combinations(sample_md.Period.unique(), 2):\n",
    "        per_1 = list(sample_md[(sample_md['City'] == city) & (sample_md['Period'] == period1)]['MeanAlpha'].values) \n",
    "        per_2 = list(sample_md[(sample_md['City'] == city) & (sample_md['Period'] == period2)]['MeanAlpha'].values)\n",
    "        obs_t, param_p_val, perm_t_stats, nonparam_p_val = mc_t_two_sample(per_1, per_2)\n",
    "        print('City {0} Period {1}-Period {2} t-stat: {3} p-value: {4} n=({5}, {6})'.format(city, \n",
    "                                                                                            period1, \n",
    "                                                                                            period2, \n",
    "                                                                                            obs_t, \n",
    "                                                                                            param_p_val, \n",
    "                                                                                            len(per_1),\n",
    "                                                                                            len(per_2)))\n",
    "    print('\\n')"
   ]
  },
  {
   "cell_type": "code",
   "execution_count": 18,
   "metadata": {
    "collapsed": false
   },
   "outputs": [
    {
     "name": "stdout",
     "output_type": "stream",
     "text": [
      "Period 1 flagstaff-sandiego t-stat: 8.682625965722735 p-value: 2.220446049250313e-16 n=(230, 194)\n",
      "Period 1 flagstaff-toronto t-stat: 8.356006761491841 p-value: 1.1102230246251565e-15 n=(230, 164)\n",
      "Period 1 sandiego-toronto t-stat: -0.18791861155268683 p-value: 0.8510475175045024 n=(194, 164)\n",
      "\n",
      "\n",
      "Period 3 flagstaff-sandiego t-stat: 3.7340156752693208 p-value: 0.00023322128345593107 n=(137, 116)\n",
      "Period 3 flagstaff-toronto t-stat: 4.21315139040889 p-value: 3.523351927881002e-05 n=(137, 114)\n",
      "Period 3 sandiego-toronto t-stat: 0.6818525768102427 p-value: 0.4960242266452579 n=(116, 114)\n",
      "\n",
      "\n",
      "Period 2 flagstaff-sandiego t-stat: 0.29616069703985154 p-value: 0.7674014312914266 n=(113, 98)\n",
      "Period 2 flagstaff-toronto t-stat: 2.878768885736491 p-value: 0.0044221044475656335 n=(113, 91)\n",
      "Period 2 sandiego-toronto t-stat: 3.047671049547323 p-value: 0.0026400839503049056 n=(98, 91)\n",
      "\n",
      "\n",
      "Period 4 flagstaff-sandiego t-stat: 2.085956942862932 p-value: 0.037674552759484836 n=(159, 209)\n",
      "Period 4 flagstaff-toronto t-stat: 3.815494004383162 p-value: 0.00016199003689765235 n=(159, 176)\n",
      "Period 4 sandiego-toronto t-stat: 1.9452346133888074 p-value: 0.05247815896898311 n=(209, 176)\n",
      "\n",
      "\n"
     ]
    }
   ],
   "source": [
    "for period in sample_md.Period.unique():\n",
    "    for city1, city2 in itertools.combinations(sample_md.City.unique(), 2):\n",
    "        per_1 = list(sample_md[(sample_md['City'] == city1) & (sample_md['Period'] == period)]['MeanAlpha'].values) \n",
    "        per_2 = list(sample_md[(sample_md['City'] == city2) & (sample_md['Period'] == period)]['MeanAlpha'].values)\n",
    "        obs_t, param_p_val, perm_t_stats, nonparam_p_val = mc_t_two_sample(per_1, per_2)\n",
    "        print('Period {0} {1}-{2} t-stat: {3} p-value: {4} n=({5}, {6})'.format(period, \n",
    "                                                                              city1, \n",
    "                                                                              city2, \n",
    "                                                                              obs_t, \n",
    "                                                                              param_p_val, \n",
    "                                                                              len(per_1),\n",
    "                                                                              len(per_2)))\n",
    "    print('\\n')"
   ]
  },
  {
   "cell_type": "code",
   "execution_count": 19,
   "metadata": {
    "collapsed": false
   },
   "outputs": [
    {
     "name": "stdout",
     "output_type": "stream",
     "text": [
      "Period 1, City flagstaff ceiling-wall t-stat: 0.5194423649577766 p-value: 0.604223057920219 n=(72, 79)\n",
      "Period 1, City flagstaff ceiling-floor t-stat: -6.177435843879747 p-value: 5.911650443517187e-09 n=(72, 79)\n",
      "Period 1, City flagstaff wall-floor t-stat: -7.753143312158577 p-value: 1.0828383306625512e-12 n=(79, 79)\n",
      "\n",
      "\n",
      "Period 1, City sandiego ceiling-wall t-stat: -0.5701173406835666 p-value: 0.5695527704952308 n=(68, 68)\n",
      "Period 1, City sandiego ceiling-floor t-stat: -1.1175206388132446 p-value: 0.2659323042219073 n=(68, 58)\n",
      "Period 1, City sandiego wall-floor t-stat: -0.3017900873850342 p-value: 0.763317642072358 n=(68, 58)\n",
      "\n",
      "\n",
      "Period 1, City toronto ceiling-wall t-stat: -2.433365126820127 p-value: 0.01661601426536017 n=(53, 56)\n",
      "Period 1, City toronto ceiling-floor t-stat: -3.5837557491043968 p-value: 0.0005133944429048103 n=(53, 55)\n",
      "Period 1, City toronto wall-floor t-stat: -0.5565356476810297 p-value: 0.5789855499820891 n=(56, 55)\n",
      "\n",
      "\n",
      "\n",
      "\n",
      "Period 3, City flagstaff ceiling-wall t-stat: -2.4300187950970336 p-value: 0.017060647142316317 n=(44, 49)\n",
      "Period 3, City flagstaff ceiling-floor t-stat: -15.434841218602758 p-value: 1.640924365815382e-26 n=(44, 44)\n",
      "Period 3, City flagstaff wall-floor t-stat: -12.873189488851272 p-value: 3.3096641379221987e-22 n=(49, 44)\n",
      "\n",
      "\n",
      "Period 3, City sandiego ceiling-wall t-stat: -0.6474481816966989 p-value: 0.5192929000437696 n=(40, 38)\n",
      "Period 3, City sandiego ceiling-floor t-stat: -5.845151523728643 p-value: 1.1908191880507172e-07 n=(40, 38)\n",
      "Period 3, City sandiego wall-floor t-stat: -5.3401861611752865 p-value: 9.816829047186794e-07 n=(38, 38)\n",
      "\n",
      "\n",
      "Period 3, City toronto ceiling-wall t-stat: -1.2959997821992657 p-value: 0.19935719386210415 n=(37, 33)\n",
      "Period 3, City toronto ceiling-floor t-stat: -10.285149338429365 p-value: 3.104246295118032e-16 n=(37, 44)\n",
      "Period 3, City toronto wall-floor t-stat: -8.8684157342069 p-value: 2.6491608321285113e-13 n=(33, 44)\n",
      "\n",
      "\n",
      "\n",
      "\n",
      "Period 2, City flagstaff ceiling-wall t-stat: -0.31701030740164443 p-value: 0.7521531812183484 n=(32, 42)\n",
      "Period 2, City flagstaff ceiling-floor t-stat: -7.491464444642521 p-value: 1.698599147393006e-10 n=(32, 39)\n",
      "Period 2, City flagstaff wall-floor t-stat: -8.678927165365545 p-value: 4.1230531569678736e-13 n=(42, 39)\n",
      "\n",
      "\n",
      "Period 2, City sandiego ceiling-wall t-stat: 0.30976227339639695 p-value: 0.7577640443971398 n=(33, 32)\n",
      "Period 2, City sandiego ceiling-floor t-stat: -5.391448343682919 p-value: 1.0778692786136318e-06 n=(33, 33)\n",
      "Period 2, City sandiego wall-floor t-stat: -5.559976299632953 p-value: 5.853874906755182e-07 n=(32, 33)\n",
      "\n",
      "\n",
      "Period 2, City toronto ceiling-wall t-stat: -0.7412253569665636 p-value: 0.4616539125082221 n=(29, 29)\n",
      "Period 2, City toronto ceiling-floor t-stat: -6.216966521297334 p-value: 5.3183676565999324e-08 n=(29, 33)\n",
      "Period 2, City toronto wall-floor t-stat: -5.6679552169794505 p-value: 4.372050959765575e-07 n=(29, 33)\n",
      "\n",
      "\n",
      "\n",
      "\n",
      "Period 4, City flagstaff ceiling-wall t-stat: -2.735717339949613 p-value: 0.007415165528407924 n=(47, 51)\n",
      "Period 4, City flagstaff ceiling-floor t-stat: -12.888667253985844 p-value: 1.9588474549059552e-23 n=(47, 61)\n",
      "Period 4, City flagstaff wall-floor t-stat: -11.033553965772944 p-value: 1.652789053830701e-19 n=(51, 61)\n",
      "\n",
      "\n",
      "Period 4, City sandiego ceiling-wall t-stat: -0.27859806004106047 p-value: 0.7809795907951069 n=(69, 68)\n",
      "Period 4, City sandiego ceiling-floor t-stat: -8.712406583999481 p-value: 7.914403830498557e-15 n=(69, 72)\n",
      "Period 4, City sandiego wall-floor t-stat: -8.470423717174645 p-value: 3.2574372106039064e-14 n=(68, 72)\n",
      "\n",
      "\n",
      "Period 4, City toronto ceiling-wall t-stat: 1.5759230135869675 p-value: 0.11788943523653805 n=(53, 60)\n",
      "Period 4, City toronto ceiling-floor t-stat: -7.195843194077961 p-value: 7.039642853710916e-11 n=(53, 63)\n",
      "Period 4, City toronto wall-floor t-stat: -9.439673503370043 p-value: 3.4837863107419244e-16 n=(60, 63)\n",
      "\n",
      "\n",
      "\n",
      "\n"
     ]
    }
   ],
   "source": [
    "for period in sample_md.Period.unique():\n",
    "    for city in sample_md.City.unique():\n",
    "        for loc1, loc2 in itertools.combinations(sample_md.PlateLocation.unique(), 2):\n",
    "            per_1 = list(sample_md[(sample_md['City'] == city) & (sample_md['Period'] == period) & (sample_md['PlateLocation'] == loc1)]['MeanAlpha'].values) \n",
    "            per_2 = list(sample_md[(sample_md['City'] == city) & (sample_md['Period'] == period) & (sample_md['PlateLocation'] == loc2)]['MeanAlpha'].values)\n",
    "            obs_t, param_p_val, perm_t_stats, nonparam_p_val = mc_t_two_sample(per_1, per_2)\n",
    "            print('Period {0}, City {1} {2}-{3} t-stat: {4} p-value: {5} n=({6}, {7})'.format(period, \n",
    "                                                                                              city, \n",
    "                                                                                              loc1, \n",
    "                                                                                              loc2,\n",
    "                                                                                              obs_t,\n",
    "                                                                                              param_p_val, \n",
    "                                                                                              len(per_1),\n",
    "                                                                                              len(per_2)))\n",
    "        print('\\n')\n",
    "    print('\\n')"
   ]
  },
  {
   "cell_type": "code",
   "execution_count": 20,
   "metadata": {
    "collapsed": false
   },
   "outputs": [
    {
     "name": "stdout",
     "output_type": "stream",
     "text": [
      "Period 1, City flagstaff 3-2 t-stat: -1.6423146346674624 p-value: 0.10190328924118058 n=(186, 44)\n",
      "Period 1, City sandiego 3-2 t-stat: 1.210543584768246 p-value: 0.22755846687400338 n=(179, 15)\n",
      "not enough data\n",
      "\n",
      "\n",
      "Period 3, City flagstaff 3-2 t-stat: -1.6847041632138144 p-value: 0.09435613774370205 n=(75, 62)\n",
      "Period 3, City sandiego 3-2 t-stat: -1.685464239282183 p-value: 0.0946344696831079 n=(69, 47)\n",
      "Period 3, City toronto 3-2 t-stat: -2.6976677207849136 p-value: 0.008062648294712652 n=(58, 56)\n",
      "\n",
      "\n",
      "Period 2, City flagstaff 3-2 t-stat: -1.9529096030478166 p-value: 0.05334770102246964 n=(69, 44)\n",
      "Period 2, City sandiego 3-2 t-stat: -1.479511462482687 p-value: 0.1422777915856735 n=(74, 24)\n",
      "Period 2, City toronto 3-2 t-stat: -2.031878813686489 p-value: 0.04514769357803452 n=(57, 34)\n",
      "\n",
      "\n",
      "Period 4, City flagstaff 3-2 t-stat: -2.772665250166274 p-value: 0.006233220810323081 n=(120, 39)\n",
      "Period 4, City sandiego 3-2 t-stat: -2.148512867397259 p-value: 0.03283433199782868 n=(148, 61)\n",
      "Period 4, City toronto 3-2 t-stat: -0.02187002451767006 p-value: 0.9825766953538276 n=(138, 38)\n",
      "\n",
      "\n"
     ]
    }
   ],
   "source": [
    "for period in sample_md.Period.unique():\n",
    "    for city in sample_md.City.unique():\n",
    "        for loc1, loc2 in itertools.combinations(sample_md.Row.unique(), 2):\n",
    "            per_1 = list(sample_md[(sample_md['City'] == city) & (sample_md['Period'] == period) & (sample_md['Row'] == loc1)]['MeanAlpha'].values) \n",
    "            per_2 = list(sample_md[(sample_md['City'] == city) & (sample_md['Period'] == period) & (sample_md['Row'] == loc2)]['MeanAlpha'].values)\n",
    "            try:\n",
    "                obs_t, param_p_val, perm_t_stats, nonparam_p_val = mc_t_two_sample(per_1, per_2)\n",
    "                print('Period {0}, City {1} {2}-{3} t-stat: {4} p-value: {5} n=({6}, {7})'.format(period, \n",
    "                                                                                                  city, \n",
    "                                                                                                  loc1, \n",
    "                                                                                                  loc2,\n",
    "                                                                                                  obs_t,\n",
    "                                                                                                  param_p_val, \n",
    "                                                                                                  len(per_1),\n",
    "                                                                                                  len(per_2)))\n",
    "            except ValueError:\n",
    "                print('not enough data')\n",
    "    print('\\n')"
   ]
  },
  {
   "cell_type": "code",
   "execution_count": 21,
   "metadata": {
    "collapsed": false
   },
   "outputs": [
    {
     "name": "stdout",
     "output_type": "stream",
     "text": [
      "Period 1, City flagstaff ceiling-drywall t-stat: -0.5103845036090487 p-value: 0.6104560614580263 n=(86, 83)\n",
      "Period 1, City flagstaff ceiling-carpet t-stat: -0.36562874986765614 p-value: 0.7151749574424537 n=(86, 61)\n",
      "Period 1, City flagstaff drywall-carpet t-stat: 0.17966685769048332 p-value: 0.8576702394039486 n=(83, 61)\n",
      "\n",
      "\n",
      "Period 1, City sandiego ceiling-drywall t-stat: -0.30939476449073683 p-value: 0.7575091038631819 n=(65, 69)\n",
      "Period 1, City sandiego ceiling-carpet t-stat: -4.271677758283095 p-value: 3.8457335982097187e-05 n=(65, 60)\n",
      "Period 1, City sandiego drywall-carpet t-stat: -4.12357493487952 p-value: 6.692361839981358e-05 n=(69, 60)\n",
      "\n",
      "\n",
      "Period 1, City toronto ceiling-drywall t-stat: -0.9912507235119633 p-value: 0.3236998775890666 n=(59, 55)\n",
      "Period 1, City toronto ceiling-carpet t-stat: -1.3078181943598959 p-value: 0.19373785893990036 n=(59, 50)\n",
      "Period 1, City toronto drywall-carpet t-stat: -0.29294531467231144 p-value: 0.7701533130380047 n=(55, 50)\n",
      "\n",
      "\n",
      "\n",
      "\n",
      "Period 3, City flagstaff ceiling-drywall t-stat: -0.23013300697213873 p-value: 0.8184585275488458 n=(51, 51)\n",
      "Period 3, City flagstaff ceiling-carpet t-stat: -0.9211130107917277 p-value: 0.35962933767578376 n=(51, 35)\n",
      "Period 3, City flagstaff drywall-carpet t-stat: -0.6555792693420821 p-value: 0.5138864131724088 n=(51, 35)\n",
      "\n",
      "\n",
      "Period 3, City sandiego ceiling-drywall t-stat: -1.178335378628833 p-value: 0.24233923849973246 n=(39, 39)\n",
      "Period 3, City sandiego ceiling-carpet t-stat: 0.3261393724069776 p-value: 0.7452272012405947 n=(39, 38)\n",
      "Period 3, City sandiego drywall-carpet t-stat: 1.708173552524966 p-value: 0.09174022216466171 n=(39, 38)\n",
      "\n",
      "\n",
      "Period 3, City toronto ceiling-drywall t-stat: 0.23380728505942155 p-value: 0.8156223159171683 n=(48, 52)\n",
      "Period 3, City toronto ceiling-carpet t-stat: 0.3253840194013606 p-value: 0.7460224299872888 n=(48, 14)\n",
      "Period 3, City toronto drywall-carpet t-stat: 0.15454193198275018 p-value: 0.8776687814235244 n=(52, 14)\n",
      "\n",
      "\n",
      "\n",
      "\n",
      "Period 2, City flagstaff ceiling-drywall t-stat: 0.04133741389418031 p-value: 0.9671273928125841 n=(43, 41)\n",
      "Period 2, City flagstaff ceiling-carpet t-stat: 0.09744888963352268 p-value: 0.9226484091995504 n=(43, 29)\n",
      "Period 2, City flagstaff drywall-carpet t-stat: 0.05706201543663059 p-value: 0.9546631374030405 n=(41, 29)\n",
      "\n",
      "\n",
      "Period 2, City sandiego ceiling-drywall t-stat: -0.9739815865172076 p-value: 0.3336765062499143 n=(34, 33)\n",
      "Period 2, City sandiego ceiling-carpet t-stat: 0.622950705948235 p-value: 0.5355655463067324 n=(34, 31)\n",
      "Period 2, City sandiego drywall-carpet t-stat: 1.6433403646111957 p-value: 0.10537485706256855 n=(33, 31)\n",
      "\n",
      "\n",
      "Period 2, City toronto ceiling-drywall t-stat: -0.8920742025415593 p-value: 0.37493213895284416 n=(42, 43)\n",
      "Period 2, City toronto ceiling-carpet t-stat: -0.8446884272527505 p-value: 0.40265675152756775 n=(42, 6)\n",
      "Period 2, City toronto drywall-carpet t-stat: -0.28493618574672397 p-value: 0.7769448534376069 n=(43, 6)\n",
      "\n",
      "\n",
      "\n",
      "\n",
      "Period 4, City flagstaff ceiling-drywall t-stat: -0.8269538647294408 p-value: 0.4101748960948878 n=(52, 53)\n",
      "Period 4, City flagstaff ceiling-carpet t-stat: -0.47949829095923985 p-value: 0.6325909858335999 n=(52, 54)\n",
      "Period 4, City flagstaff drywall-carpet t-stat: 0.4031268871821716 p-value: 0.6876745618855424 n=(53, 54)\n",
      "\n",
      "\n",
      "Period 4, City sandiego ceiling-drywall t-stat: 0.8064726270004038 p-value: 0.42132855060237584 n=(73, 70)\n",
      "Period 4, City sandiego ceiling-carpet t-stat: 0.5167926101749748 p-value: 0.6061342025490353 n=(73, 66)\n",
      "Period 4, City sandiego drywall-carpet t-stat: -0.35756483135454903 p-value: 0.7212315589171883 n=(70, 66)\n",
      "\n",
      "\n",
      "Period 4, City toronto ceiling-drywall t-stat: 0.10329146939738512 p-value: 0.9178985124655592 n=(63, 63)\n",
      "Period 4, City toronto ceiling-carpet t-stat: 0.637293903069059 p-value: 0.5252457284157872 n=(63, 50)\n",
      "Period 4, City toronto drywall-carpet t-stat: 0.530140794669111 p-value: 0.5970732234751908 n=(63, 50)\n",
      "\n",
      "\n",
      "\n",
      "\n"
     ]
    }
   ],
   "source": [
    "for period in sample_md.Period.unique():\n",
    "    for city in sample_md.City.unique():\n",
    "        for loc1, loc2 in itertools.combinations(sample_md.Material.unique(), 2):\n",
    "            per_1 = list(sample_md[(sample_md['City'] == city) & (sample_md['Period'] == period) & (sample_md['Material'] == loc1)]['MeanAlpha'].values) \n",
    "            per_2 = list(sample_md[(sample_md['City'] == city) & (sample_md['Period'] == period) & (sample_md['Material'] == loc2)]['MeanAlpha'].values)\n",
    "            obs_t, param_p_val, perm_t_stats, nonparam_p_val = mc_t_two_sample(per_1, per_2)\n",
    "            print('Period {0}, City {1} {2}-{3} t-stat: {4} p-value: {5} n=({6}, {7})'.format(period, \n",
    "                                                                                              city, \n",
    "                                                                                              loc1, \n",
    "                                                                                              loc2,\n",
    "                                                                                              obs_t,\n",
    "                                                                                              param_p_val, \n",
    "                                                                                              len(per_1),\n",
    "                                                                                              len(per_2)))\n",
    "        print('\\n')\n",
    "    print('\\n')"
   ]
  },
  {
   "cell_type": "code",
   "execution_count": 22,
   "metadata": {
    "collapsed": false
   },
   "outputs": [],
   "source": [
    "flagstaff = sample_md[sample_md['City'] == 'flagstaff']['MeanAlpha']\n",
    "sandiego = sample_md[sample_md['City'] == 'sandiego']['MeanAlpha']\n",
    "toronto = sample_md[sample_md['City'] == 'toronto']['MeanAlpha']"
   ]
  },
  {
   "cell_type": "code",
   "execution_count": 23,
   "metadata": {
    "collapsed": false
   },
   "outputs": [
    {
     "name": "stdout",
     "output_type": "stream",
     "text": [
      "6.990490623483981 4.44022596469e-12\n"
     ]
    }
   ],
   "source": [
    "obs_t, param_p_val, perm_t_stats, nonparam_p_val = mc_t_two_sample(flagstaff, sandiego)\n",
    "print(obs_t, param_p_val)"
   ]
  },
  {
   "cell_type": "code",
   "execution_count": 24,
   "metadata": {
    "collapsed": false
   },
   "outputs": [
    {
     "name": "stdout",
     "output_type": "stream",
     "text": [
      "9.11869786005203 0.0\n"
     ]
    }
   ],
   "source": [
    "obs_t, param_p_val, perm_t_stats, nonparam_p_val = mc_t_two_sample(flagstaff, toronto)\n",
    "print(obs_t, param_p_val)"
   ]
  },
  {
   "cell_type": "code",
   "execution_count": 25,
   "metadata": {
    "collapsed": false
   },
   "outputs": [
    {
     "name": "stdout",
     "output_type": "stream",
     "text": [
      "2.352175443004232 0.0188303859485\n"
     ]
    }
   ],
   "source": [
    "obs_t, param_p_val, perm_t_stats, nonparam_p_val = mc_t_two_sample(sandiego, toronto)\n",
    "print(obs_t, param_p_val)"
   ]
  },
  {
   "cell_type": "code",
   "execution_count": null,
   "metadata": {
    "collapsed": true
   },
   "outputs": [],
   "source": []
  },
  {
   "cell_type": "code",
   "execution_count": null,
   "metadata": {
    "collapsed": true
   },
   "outputs": [],
   "source": []
  },
  {
   "cell_type": "code",
   "execution_count": null,
   "metadata": {
    "collapsed": true
   },
   "outputs": [],
   "source": []
  }
 ],
 "metadata": {
  "kernelspec": {
   "display_name": "da-conda",
   "language": "python",
   "name": "auto_da-conda"
  },
  "language_info": {
   "codemirror_mode": {
    "name": "ipython",
    "version": 3
   },
   "file_extension": ".py",
   "mimetype": "text/x-python",
   "name": "python",
   "nbconvert_exporter": "python",
   "pygments_lexer": "ipython3",
   "version": "3.5.1"
  }
 },
 "nbformat": 4,
 "nbformat_minor": 0
}
