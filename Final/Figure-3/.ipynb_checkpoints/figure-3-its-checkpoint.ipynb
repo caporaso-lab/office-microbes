{
 "cells": [
  {
   "cell_type": "code",
   "execution_count": null,
   "metadata": {
    "collapsed": false
   },
   "outputs": [],
   "source": [
    "%matplotlib inline\n",
    "import pandas as pd\n",
    "from os.path import join\n",
    "import seaborn as sns\n",
    "import matplotlib.pyplot as plt\n",
    "import numpy as np\n",
    "import skbio\n",
    "# from q2d2 import get_within_between_distances, filter_dm_and_map\n",
    "from stats import mc_t_two_sample\n",
    "from skbio.stats.distance import anosim, permanova\n",
    "from skbio.stats.composition import ancom, multiplicative_replacement\n",
    "import itertools"
   ]
  },
  {
   "cell_type": "markdown",
   "metadata": {},
   "source": [
    "##Define a couple of helper functions"
   ]
  },
  {
   "cell_type": "code",
   "execution_count": null,
   "metadata": {
    "collapsed": true
   },
   "outputs": [],
   "source": [
    "def get_within_between_distances(map_df, dm, col):\n",
    "    filtered_dm, filtered_map = filter_dm_and_map(dm, map_df)\n",
    "    groups = []\n",
    "    distances = []\n",
    "    map_dict = filtered_map[col].to_dict()\n",
    "    for id_1, id_2 in itertools.combinations(filtered_map.index.tolist(), 2):\n",
    "        row = []\n",
    "        if map_dict[id_1] == map_dict[id_2]:\n",
    "            groups.append('Within')\n",
    "        else:\n",
    "            groups.append('Between')\n",
    "        distances.append(filtered_dm[(id_1, id_2)])\n",
    "    groups = zip(groups, distances)\n",
    "    distances_df = pd.DataFrame(data=list(groups), columns=['Groups', 'Distance'])\n",
    "\n",
    "    return distances_df\n",
    "    \n",
    "    \n",
    "def filter_dm_and_map(dm, map_df):\n",
    "    ids_to_exclude = set(dm.ids) - set(map_df.index.values)\n",
    "    ids_to_keep = set(dm.ids) - ids_to_exclude\n",
    "    filtered_dm = dm.filter(ids_to_keep)\n",
    "    filtered_map = map_df.loc[ids_to_keep]\n",
    "\n",
    "    return filtered_dm, filtered_map"
   ]
  },
  {
   "cell_type": "code",
   "execution_count": 38,
   "metadata": {
    "collapsed": false
   },
   "outputs": [
    {
     "data": {
      "image/png": "[encoded data removed]",
      "text/plain": [
       "<matplotlib.figure.Figure at 0x7f4b3b7f3588>"
      ]
     },
     "metadata": {},
     "output_type": "display_data"
    }
   ],
   "source": [
    "colors = sns.color_palette(\"YlGnBu\", 100)\n",
    "sns.palplot(colors)"
   ]
  },
  {
   "cell_type": "markdown",
   "metadata": {},
   "source": [
    "Load mapping file and munge it\n",
    "-----------------"
   ]
  },
  {
   "cell_type": "code",
   "execution_count": 39,
   "metadata": {
    "collapsed": false
   },
   "outputs": [],
   "source": [
    "home = '/home/office-microbe-files'\n",
    "map_fp = join(home, 'master_map_150908.txt')"
   ]
  },
  {
   "cell_type": "code",
   "execution_count": 40,
   "metadata": {
    "collapsed": true
   },
   "outputs": [],
   "source": [
    "sample_md = pd.read_csv(map_fp, sep='\\t', index_col=0, dtype=str)\n",
    "sample_md = sample_md[sample_md['16SITS'] == 'ITS']\n",
    "sample_md = sample_md[sample_md['OfficeSample'] == 'yes']"
   ]
  },
  {
   "cell_type": "code",
   "execution_count": 41,
   "metadata": {
    "collapsed": true
   },
   "outputs": [],
   "source": [
    "replicate_ids = '''F2F.2.Ce.021\n",
    "F2F.2.Ce.022\n",
    "F2F.3.Ce.021\n",
    "F2F.3.Ce.022\n",
    "F2W.2.Ca.021\n",
    "F2W.2.Ca.022\n",
    "F2W.2.Ce.021\n",
    "F2W.2.Ce.022\n",
    "F3W.2.Ce.021\n",
    "F3W.2.Ce.022\n",
    "F1F.3.Ca.021\n",
    "F1F.3.Ca.022\n",
    "F1C.3.Ca.021\n",
    "F1C.3.Ca.022\n",
    "F1W.2.Ce.021\n",
    "F1W.2.Ce.022\n",
    "F1W.3.Dr.021\n",
    "F1W.3.Dr.022\n",
    "F1C.3.Dr.021\n",
    "F1C.3.Dr.022\n",
    "F2W.3.Dr.059\n",
    "F3F.2.Ce.078'''.split('\\n')"
   ]
  },
  {
   "cell_type": "code",
   "execution_count": 42,
   "metadata": {
    "collapsed": true
   },
   "outputs": [],
   "source": [
    "reps = sample_md[sample_md['Description'].isin(replicate_ids)]\n",
    "reps = reps.drop(reps.drop_duplicates('Description').index).index\n",
    "sample_md.drop(reps, inplace=True)"
   ]
  },
  {
   "cell_type": "markdown",
   "metadata": {},
   "source": [
    "Load alpha diversity\n",
    "----------------------"
   ]
  },
  {
   "cell_type": "code",
   "execution_count": 43,
   "metadata": {
    "collapsed": false
   },
   "outputs": [],
   "source": [
    "alpha_div_fp = '/home/johnchase/office-project/office-microbes/notebooks/UNITE-analysis/core_div/core_div_open/arare_max999/alpha_div_collated/observed_species.txt'\n",
    "alpha_div = pd.read_csv(alpha_div_fp, sep='\\t', index_col=0)\n",
    "alpha_div = alpha_div.T.drop(['sequences per sample', 'iteration'])\n",
    "alpha_cols = [e for e in alpha_div.columns if '990' in e]\n",
    "alpha_div = alpha_div[alpha_cols]\n",
    "sample_md = pd.concat([sample_md, alpha_div], axis=1, join='inner')\n",
    "sample_md['MeanAlpha'] = sample_md[alpha_cols].mean(axis=1)\n",
    "sample_md['MedianAlpha'] = sample_md[alpha_cols].median(axis=1)\n",
    "alpha_div = pd.read_csv(alpha_div_fp, sep='\\t', index_col=0)\n",
    "alpha_div = alpha_div.T.drop(['sequences per sample', 'iteration'])\n",
    "alpha_cols = [e for e in alpha_div.columns if '990' in e]\n",
    "alpha_div = alpha_div[alpha_cols]"
   ]
  },
  {
   "cell_type": "markdown",
   "metadata": {},
   "source": [
    "add alpha diversity to map\n",
    "-------------"
   ]
  },
  {
   "cell_type": "code",
   "execution_count": 44,
   "metadata": {
    "collapsed": true
   },
   "outputs": [],
   "source": [
    "sample_md = pd.concat([sample_md, alpha_div], axis=1, join='inner')\n",
    "sample_md['MeanAlpha'] = sample_md[alpha_cols].mean(axis=1)"
   ]
  },
  {
   "cell_type": "markdown",
   "metadata": {},
   "source": [
    "Filter the samples so that only corrosponding row 2, 3 samples are included\n",
    "-----------------------------------------------------------"
   ]
  },
  {
   "cell_type": "code",
   "execution_count": 45,
   "metadata": {
    "collapsed": false
   },
   "outputs": [],
   "source": [
    "sample_md['NoRow'] = sample_md['Description'].apply(lambda x: x[:3] + x[5:])\n",
    "row_df = sample_md[sample_md.duplicated('NoRow', keep=False)].copy()"
   ]
  },
  {
   "cell_type": "code",
   "execution_count": 46,
   "metadata": {
    "collapsed": false
   },
   "outputs": [],
   "source": [
    "row_df['SampleType'] = 'All Row 2/3 Pairs (n={0})'.format(int(len(row_df)/2))\n",
    "plot_row_df = row_df[['Row', 'MeanAlpha', 'SampleType']]\n",
    "\n",
    "\n",
    "sample_md_wall = row_df[row_df['PlateLocation'] != 'floor'].copy()\n",
    "sample_md_wall['SampleType'] = 'Wall and Ceiling Pairs (n={0})'.format(int(len(sample_md_wall)/2))\n",
    "plot_sample_md_wall = sample_md_wall[['Row', 'MeanAlpha', 'SampleType']]\n",
    "\n",
    "sample_md_floor = row_df[row_df['PlateLocation'] == 'floor'].copy()\n",
    "sample_md_floor['SampleType'] = 'Floor Pairs (n={0})'.format(int(len(sample_md_floor)/2))\n",
    "plot_sample_md_floor = sample_md_floor[['Row', 'MeanAlpha', 'SampleType']]\n",
    "\n",
    "plot_df = pd.concat([plot_row_df, plot_sample_md_wall, plot_sample_md_floor])"
   ]
  },
  {
   "cell_type": "code",
   "execution_count": 1,
   "metadata": {
    "collapsed": false
   },
   "outputs": [
    {
     "ename": "NameError",
     "evalue": "name 'plt' is not defined",
     "output_type": "error",
     "traceback": [
      "\u001b[1;31m---------------------------------------------------------------------------\u001b[0m",
      "\u001b[1;31mNameError\u001b[0m                                 Traceback (most recent call last)",
      "\u001b[1;32m<ipython-input-1-4952da262be3>\u001b[0m in \u001b[0;36m<module>\u001b[1;34m()\u001b[0m\n\u001b[1;32m----> 1\u001b[1;33m with plt.rc_context(dict(sns.axes_style(\"darkgrid\"),\n\u001b[0m\u001b[0;32m      2\u001b[0m                          **sns.plotting_context(\"notebook\", font_scale=1.5))):\n\u001b[0;32m      3\u001b[0m     \u001b[0mplt\u001b[0m\u001b[1;33m.\u001b[0m\u001b[0mfigure\u001b[0m\u001b[1;33m(\u001b[0m\u001b[0mfigsize\u001b[0m\u001b[1;33m=\u001b[0m\u001b[1;33m(\u001b[0m\u001b[1;36m20\u001b[0m\u001b[1;33m,\u001b[0m \u001b[1;36m11\u001b[0m\u001b[1;33m)\u001b[0m\u001b[1;33m)\u001b[0m\u001b[1;33m\u001b[0m\u001b[0m\n\u001b[0;32m      4\u001b[0m \u001b[1;33m\u001b[0m\u001b[0m\n\u001b[0;32m      5\u001b[0m     ax = sns.violinplot(x='SampleType', y='MeanAlpha', data=plot_df, hue='Row', hue_order=['3', '2'], \n",
      "\u001b[1;31mNameError\u001b[0m: name 'plt' is not defined"
     ]
    }
   ],
   "source": [
    "with plt.rc_context(dict(sns.axes_style(\"darkgrid\"),\n",
    "                         **sns.plotting_context(\"notebook\", font_scale=1.5))):\n",
    "    plt.figure(figsize=(20, 11))\n",
    "\n",
    "    ax = sns.violinplot(x='SampleType', y='MeanAlpha', data=plot_df, hue='Row', hue_order=['3', '2'], \n",
    "                        palette=\"YlGnBu\")\n",
    "    ax.set_xlabel('')\n",
    "    handles, labels = ax.get_legend_handles_labels()\n",
    "    ax.set_ylabel('OTU counts')\n",
    "    ax.legend(handles, ['Frequent', 'Infrequent'], title='Sampling Frequency')\n",
    "    ax.get_legend().get_title().set_fontsize('15')\n",
    "    plt.savefig('figure-3-its.png', dpi=300)"
   ]
  },
  {
   "cell_type": "markdown",
   "metadata": {},
   "source": [
    "Somehow this actually works, this code is taken from QIIME, converted to python 3 and is present in this directory"
   ]
  },
  {
   "cell_type": "code",
   "execution_count": 48,
   "metadata": {
    "collapsed": false
   },
   "outputs": [
    {
     "name": "stdout",
     "output_type": "stream",
     "text": [
      "(4.178368737487422, 3.5310986970626956e-05) row 2 mean: 129.0457013574661, row 1 mean: 101.25458515283844\n"
     ]
    }
   ],
   "source": [
    "row_2_values = list(row_df[(row_df['Row'] == '2')]['MeanAlpha'])\n",
    "row_3_values = list(row_df[(row_df['Row'] == '3')]['MeanAlpha'])\n",
    "obs_t, param_p_val, perm_t_stats, nonparam_p_val = mc_t_two_sample(row_2_values, row_3_values)\n",
    "obs_t, param_p_val\n",
    "print((obs_t, param_p_val), \"row 2 mean: {0}, row 1 mean: {1}\".format(np.mean(row_2_values),np.mean(row_3_values)))"
   ]
  },
  {
   "cell_type": "code",
   "execution_count": 49,
   "metadata": {
    "collapsed": false
   },
   "outputs": [
    {
     "name": "stdout",
     "output_type": "stream",
     "text": [
      "(-0.07797815663743306, 0.93791761535347895) row 2 mean: 77.58396226415094, row 1 mean: 78.07857142857142\n"
     ]
    }
   ],
   "source": [
    "row_2_values = list(sample_md_wall[(sample_md_wall['Row'] == '2')]['MeanAlpha'])\n",
    "row_3_values = list(sample_md_wall[(sample_md_wall['Row'] == '3')]['MeanAlpha'])\n",
    "obs_t, param_p_val, perm_t_stats, nonparam_p_val = mc_t_two_sample(row_2_values, row_3_values)\n",
    "print((obs_t, param_p_val), \"row 2 mean: {0}, row 1 mean: {1}\".format(np.mean(row_2_values),np.mean(row_3_values)))"
   ]
  },
  {
   "cell_type": "code",
   "execution_count": 50,
   "metadata": {
    "collapsed": false
   },
   "outputs": [
    {
     "name": "stdout",
     "output_type": "stream",
     "text": [
      "(5.8449136803810715, 1.7233641180780523e-08) row 2 mean: 176.48000000000002, row 1 mean: 123.44017094017092\n"
     ]
    }
   ],
   "source": [
    "row_2_values = list(sample_md_floor[(sample_md_floor['Row'] == '2')]['MeanAlpha'])\n",
    "row_3_values = list(sample_md_floor[(sample_md_floor['Row'] == '3')]['MeanAlpha'])\n",
    "obs_t, param_p_val, perm_t_stats, nonparam_p_val = mc_t_two_sample(row_2_values, row_3_values)\n",
    "print((obs_t, param_p_val), \"row 2 mean: {0}, row 1 mean: {1}\".format(np.mean(row_2_values),np.mean(row_3_values)))"
   ]
  },
  {
   "cell_type": "markdown",
   "metadata": {},
   "source": [
    "#Beta Diversity!\n"
   ]
  },
  {
   "cell_type": "markdown",
   "metadata": {},
   "source": [
    "Create beta diversity boxplots of within and bewteen distances for row. It may not make a lot of sense doing this for all samples as the location and or city affect may drown out the row affect"
   ]
  },
  {
   "cell_type": "markdown",
   "metadata": {},
   "source": [
    "Load the distance matrix\n",
    "----------------------"
   ]
  },
  {
   "cell_type": "code",
   "execution_count": 72,
   "metadata": {
    "collapsed": false
   },
   "outputs": [],
   "source": [
    "# w_dm = skbio.DistanceMatrix.read(join(home, '/home/johnchase/office-project/office-microbes/notebooks/UNITE-analysis/core_div/core_div_open/bdiv_even999/bray_curtis_dm.txt'))\n",
    "w_dm = skbio.DistanceMatrix.read(join(home, '/home/johnchase/office-project/office-microbes/notebooks/UNITE-analysis/core_div/core_div_open/bdiv_even999/binary_jaccard_dm.txt'))"
   ]
  },
  {
   "cell_type": "markdown",
   "metadata": {},
   "source": [
    "Run permanova and recored within between values on various categories\n",
    "----------------------\n",
    "\n",
    "All of these will be based on the row 2, 3 paired samples, though they may be filtered to avoind confounding variables"
   ]
  },
  {
   "cell_type": "markdown",
   "metadata": {},
   "source": [
    "###Row distances"
   ]
  },
  {
   "cell_type": "code",
   "execution_count": 73,
   "metadata": {
    "collapsed": false
   },
   "outputs": [
    {
     "data": {
      "text/plain": [
       "method name               PERMANOVA\n",
       "test statistic name        pseudo-F\n",
       "sample size                      47\n",
       "number of groups                  2\n",
       "test statistic               1.0128\n",
       "p-value                       0.279\n",
       "number of permutations          999\n",
       "Name: PERMANOVA results, dtype: object"
      ]
     },
     "execution_count": 73,
     "metadata": {},
     "output_type": "execute_result"
    }
   ],
   "source": [
    "filt_map = row_df[(row_df['City'] == 'flagstaff') & (row_df['Run'] == '2')]\n",
    "filt_dm, filt_map = filter_dm_and_map(w_dm, filt_map)\n",
    "\n",
    "row_dists = get_within_between_distances(filt_map, filt_dm, 'Row')\n",
    "row_dists['Category'] = 'Row (n=198)'\n",
    "\n",
    "permanova(filt_dm, filt_map, column='Row', permutations=999)"
   ]
  },
  {
   "cell_type": "markdown",
   "metadata": {
    "collapsed": false
   },
   "source": [
    "###Plate location\n",
    "\n",
    "We can use the same samples for this as the previous test"
   ]
  },
  {
   "cell_type": "code",
   "execution_count": 64,
   "metadata": {
    "collapsed": false
   },
   "outputs": [
    {
     "data": {
      "text/plain": [
       "method name               PERMANOVA\n",
       "test statistic name        pseudo-F\n",
       "sample size                      47\n",
       "number of groups                  3\n",
       "test statistic               1.0999\n",
       "p-value                       0.012\n",
       "number of permutations          999\n",
       "Name: PERMANOVA results, dtype: object"
      ]
     },
     "execution_count": 64,
     "metadata": {},
     "output_type": "execute_result"
    }
   ],
   "source": [
    "plate_dists = get_within_between_distances(filt_map, filt_dm, 'PlateLocation')\n",
    "plate_dists['Category'] = 'Plate Location (n=198)'\n",
    "\n",
    "permanova(filt_dm, filt_map, column='PlateLocation', permutations=999)"
   ]
  },
  {
   "cell_type": "markdown",
   "metadata": {},
   "source": [
    "###Run"
   ]
  },
  {
   "cell_type": "code",
   "execution_count": 65,
   "metadata": {
    "collapsed": false
   },
   "outputs": [
    {
     "data": {
      "text/plain": [
       "method name               PERMANOVA\n",
       "test statistic name        pseudo-F\n",
       "sample size                     228\n",
       "number of groups                  3\n",
       "test statistic              2.01541\n",
       "p-value                       0.001\n",
       "number of permutations          999\n",
       "Name: PERMANOVA results, dtype: object"
      ]
     },
     "execution_count": 65,
     "metadata": {},
     "output_type": "execute_result"
    }
   ],
   "source": [
    "filt_map = row_df[(row_df['City'] == 'flagstaff')]\n",
    "filt_dm, filt_map = filter_dm_and_map(w_dm, filt_map)\n",
    "run_dists = get_within_between_distances(filt_map, filt_dm, 'Run')\n",
    "run_dists['Category'] = 'Run (n=357)'\n",
    "permanova(filt_dm, filt_map, column='Run', permutations=999)"
   ]
  },
  {
   "cell_type": "markdown",
   "metadata": {},
   "source": [
    "###Material"
   ]
  },
  {
   "cell_type": "code",
   "execution_count": 66,
   "metadata": {
    "collapsed": false
   },
   "outputs": [
    {
     "data": {
      "text/plain": [
       "method name               PERMANOVA\n",
       "test statistic name        pseudo-F\n",
       "sample size                      47\n",
       "number of groups                  3\n",
       "test statistic              1.01254\n",
       "p-value                       0.308\n",
       "number of permutations          999\n",
       "Name: PERMANOVA results, dtype: object"
      ]
     },
     "execution_count": 66,
     "metadata": {},
     "output_type": "execute_result"
    }
   ],
   "source": [
    "filt_map = row_df[(row_df['City'] == 'flagstaff') & (row_df['Run'] == '2')]\n",
    "filt_dm, filt_map = filter_dm_and_map(w_dm, filt_map)\n",
    "\n",
    "material_dists = get_within_between_distances(filt_map, filt_dm, 'Material')\n",
    "material_dists['Category'] = 'Material (n=198)'\n",
    "\n",
    "permanova(filt_dm, filt_map, column='Material', permutations=999)"
   ]
  },
  {
   "cell_type": "code",
   "execution_count": 67,
   "metadata": {
    "collapsed": false
   },
   "outputs": [
    {
     "data": {
      "text/plain": [
       "method name               PERMANOVA\n",
       "test statistic name        pseudo-F\n",
       "sample size                      47\n",
       "number of groups                  3\n",
       "test statistic              1.01254\n",
       "p-value                       0.275\n",
       "number of permutations          999\n",
       "Name: PERMANOVA results, dtype: object"
      ]
     },
     "execution_count": 67,
     "metadata": {},
     "output_type": "execute_result"
    }
   ],
   "source": [
    "filt_map = row_df[(row_df['City'] == 'flagstaff') & (row_df['Run'] == '2')]\n",
    "filt_dm, filt_map = filter_dm_and_map(w_dm, filt_map)\n",
    "\n",
    "material_dists = get_within_between_distances(filt_map, filt_dm, 'Material')\n",
    "material_dists['Category'] = 'Material (n=198)'\n",
    "\n",
    "permanova(filt_dm, filt_map, column='Material', permutations=999)"
   ]
  },
  {
   "cell_type": "code",
   "execution_count": 60,
   "metadata": {
    "collapsed": false
   },
   "outputs": [],
   "source": [
    "all_dists = material_dists.append(row_dists).append(plate_dists).append(run_dists)"
   ]
  },
  {
   "cell_type": "code",
   "execution_count": 61,
   "metadata": {
    "collapsed": false
   },
   "outputs": [
    {
     "data": {
      "image/png": "[encoded data removed]",
      "text/plain": [
       "<matplotlib.figure.Figure at 0x7f4b40056128>"
      ]
     },
     "metadata": {},
     "output_type": "display_data"
    }
   ],
   "source": [
    "with plt.rc_context(dict(sns.axes_style(\"darkgrid\"),\n",
    "                         **sns.plotting_context(\"notebook\", font_scale=1.8))):\n",
    "    plt.figure(figsize=(16,10))\n",
    "    ax = sns.boxplot(x=\"Category\", y=\"Distance\", hue=\"Groups\", hue_order=['Within', 'Between'], data=all_dists, palette=sns.color_palette(['#f1fabb', '#2259a6']))\n",
    "    ax.set_ylim([0.9, 1.02])\n",
    "    plt.legend(loc='upper right')\n",
    "    \n",
    "    plt.savefig('figure-4-2.png', dpi=300)\n",
    "    "
   ]
  },
  {
   "cell_type": "code",
   "execution_count": 23,
   "metadata": {
    "collapsed": false
   },
   "outputs": [
    {
     "data": {
      "text/plain": [
       "1.0"
      ]
     },
     "execution_count": 23,
     "metadata": {},
     "output_type": "execute_result"
    }
   ],
   "source": [
    "all_dists.Distance.max()"
   ]
  },
  {
   "cell_type": "markdown",
   "metadata": {
    "collapsed": true
   },
   "source": [
    "ANCOM\n",
    "-----"
   ]
  },
  {
   "cell_type": "code",
   "execution_count": 24,
   "metadata": {
    "collapsed": false
   },
   "outputs": [
    {
     "name": "stderr",
     "output_type": "stream",
     "text": [
      "/home/johnchase/.conda/envs/da/lib/python3.5/site-packages/IPython/core/interactiveshell.py:2902: DtypeWarning: Columns (0) have mixed types. Specify dtype option on import or set low_memory=False.\n",
      "  interactivity=interactivity, compiler=compiler, result=result)\n"
     ]
    }
   ],
   "source": [
    "table_fp = join(home, 'core_div_out/table_even1000.txt')\n",
    "table = pd.read_csv(table_fp, sep='\\t', skiprows=1, index_col=0).T\n",
    "table.index = table.index.astype(str)"
   ]
  },
  {
   "cell_type": "code",
   "execution_count": 25,
   "metadata": {
    "collapsed": true
   },
   "outputs": [],
   "source": [
    "table_ancom = table.loc[:, table[:3].sum(axis=0) > 0]"
   ]
  },
  {
   "cell_type": "code",
   "execution_count": 26,
   "metadata": {
    "collapsed": false
   },
   "outputs": [
    {
     "ename": "NameError",
     "evalue": "name 'row_md' is not defined",
     "output_type": "error",
     "traceback": [
      "\u001b[1;31m---------------------------------------------------------------------------\u001b[0m",
      "\u001b[1;31mNameError\u001b[0m                                 Traceback (most recent call last)",
      "\u001b[1;32m<ipython-input-26-3de095e3a0ea>\u001b[0m in \u001b[0;36m<module>\u001b[1;34m()\u001b[0m\n\u001b[0;32m      1\u001b[0m \u001b[0mtable_ancom\u001b[0m \u001b[1;33m=\u001b[0m \u001b[0mpd\u001b[0m\u001b[1;33m.\u001b[0m\u001b[0mDataFrame\u001b[0m\u001b[1;33m(\u001b[0m\u001b[0mmultiplicative_replacement\u001b[0m\u001b[1;33m(\u001b[0m\u001b[0mtable_ancom\u001b[0m\u001b[1;33m)\u001b[0m\u001b[1;33m,\u001b[0m \u001b[0mindex\u001b[0m\u001b[1;33m=\u001b[0m\u001b[0mtable_ancom\u001b[0m\u001b[1;33m.\u001b[0m\u001b[0mindex\u001b[0m\u001b[1;33m,\u001b[0m \u001b[0mcolumns\u001b[0m\u001b[1;33m=\u001b[0m\u001b[0mtable_ancom\u001b[0m\u001b[1;33m.\u001b[0m\u001b[0mcolumns\u001b[0m\u001b[1;33m)\u001b[0m\u001b[1;33m\u001b[0m\u001b[0m\n\u001b[0;32m      2\u001b[0m \u001b[0mtable_ancom\u001b[0m\u001b[1;33m.\u001b[0m\u001b[0mdropna\u001b[0m\u001b[1;33m(\u001b[0m\u001b[0maxis\u001b[0m\u001b[1;33m=\u001b[0m\u001b[1;36m0\u001b[0m\u001b[1;33m,\u001b[0m \u001b[0minplace\u001b[0m\u001b[1;33m=\u001b[0m\u001b[1;32mTrue\u001b[0m\u001b[1;33m)\u001b[0m\u001b[1;33m\u001b[0m\u001b[0m\n\u001b[1;32m----> 3\u001b[1;33m \u001b[0mintersect_ids\u001b[0m \u001b[1;33m=\u001b[0m \u001b[0mset\u001b[0m\u001b[1;33m(\u001b[0m\u001b[0mrow_md\u001b[0m\u001b[1;33m.\u001b[0m\u001b[0mindex\u001b[0m\u001b[1;33m)\u001b[0m\u001b[1;33m.\u001b[0m\u001b[0mintersection\u001b[0m\u001b[1;33m(\u001b[0m\u001b[0mset\u001b[0m\u001b[1;33m(\u001b[0m\u001b[0mtable_ancom\u001b[0m\u001b[1;33m.\u001b[0m\u001b[0mindex\u001b[0m\u001b[1;33m)\u001b[0m\u001b[1;33m)\u001b[0m\u001b[1;33m\u001b[0m\u001b[0m\n\u001b[0m\u001b[0;32m      4\u001b[0m \u001b[0mrow_md_ancom\u001b[0m \u001b[1;33m=\u001b[0m \u001b[0mrow_md\u001b[0m\u001b[1;33m.\u001b[0m\u001b[0mloc\u001b[0m\u001b[1;33m[\u001b[0m\u001b[0mintersect_ids\u001b[0m\u001b[1;33m,\u001b[0m \u001b[1;33m]\u001b[0m\u001b[1;33m\u001b[0m\u001b[0m\n\u001b[0;32m      5\u001b[0m \u001b[0mtable_ancom\u001b[0m \u001b[1;33m=\u001b[0m \u001b[0mtable_ancom\u001b[0m\u001b[1;33m.\u001b[0m\u001b[0mloc\u001b[0m\u001b[1;33m[\u001b[0m\u001b[0mintersect_ids\u001b[0m\u001b[1;33m,\u001b[0m \u001b[1;33m]\u001b[0m\u001b[1;33m\u001b[0m\u001b[0m\n",
      "\u001b[1;31mNameError\u001b[0m: name 'row_md' is not defined"
     ]
    }
   ],
   "source": [
    "table_ancom = pd.DataFrame(multiplicative_replacement(table_ancom), index=table_ancom.index, columns=table_ancom.columns)\n",
    "table_ancom.dropna(axis=0, inplace=True)\n",
    "intersect_ids = set(row_md.index).intersection(set(table_ancom.index))\n",
    "row_md_ancom = row_md.loc[intersect_ids, ]\n",
    "table_ancom = table_ancom.loc[intersect_ids, ]"
   ]
  },
  {
   "cell_type": "code",
   "execution_count": null,
   "metadata": {
    "collapsed": false
   },
   "outputs": [],
   "source": [
    "%time\n",
    "results = ancom(table_ancom, row_md_ancom['Row'])"
   ]
  },
  {
   "cell_type": "code",
   "execution_count": null,
   "metadata": {
    "collapsed": false
   },
   "outputs": [],
   "source": [
    "sigs = results[results['reject'] == True]"
   ]
  },
  {
   "cell_type": "code",
   "execution_count": null,
   "metadata": {
    "collapsed": false
   },
   "outputs": [],
   "source": [
    "tax_fp = '/home/office-microbe-files/pick_otus_out_97/uclust_assigned_taxonomy/rep_set_tax_assignments.txt'\n",
    "taxa_map = pd.read_csv(tax_fp, sep='\\t', index_col=0, names=['Taxa', 'none', 'none'])\n",
    "taxa_map.drop('none', axis=1, inplace=True)\n",
    "taxa_map.index = taxa_map.index.astype(str)"
   ]
  },
  {
   "cell_type": "code",
   "execution_count": null,
   "metadata": {
    "collapsed": false
   },
   "outputs": [],
   "source": [
    "taxa_map.loc[sigs.sort_values('W').index.astype(str)]"
   ]
  },
  {
   "cell_type": "code",
   "execution_count": null,
   "metadata": {
    "collapsed": false
   },
   "outputs": [],
   "source": [
    "pd.options.display.max_colwidth = 200"
   ]
  },
  {
   "cell_type": "code",
   "execution_count": null,
   "metadata": {
    "collapsed": false
   },
   "outputs": [],
   "source": [
    "sigs"
   ]
  },
  {
   "cell_type": "code",
   "execution_count": 30,
   "metadata": {
    "collapsed": false
   },
   "outputs": [
    {
     "data": {
      "text/plain": [
       "0.99059953231258957"
      ]
     },
     "execution_count": 30,
     "metadata": {},
     "output_type": "execute_result"
    }
   ],
   "source": [
    "np.mean(w_dm.data)"
   ]
  },
  {
   "cell_type": "code",
   "execution_count": 31,
   "metadata": {
    "collapsed": false
   },
   "outputs": [
    {
     "data": {
      "text/plain": [
       "0.99899899899900002"
      ]
     },
     "execution_count": 31,
     "metadata": {},
     "output_type": "execute_result"
    }
   ],
   "source": [
    "np.median(w_dm.data)"
   ]
  },
  {
   "cell_type": "code",
   "execution_count": 32,
   "metadata": {
    "collapsed": true
   },
   "outputs": [],
   "source": [
    "w_dm = skbio.DistanceMatrix.read(join(home, '/home/johnchase/office-project/office-microbes/notebooks/UNITE-analysis/core_div/core_div_closed/bdiv_even1000/bray_curtis_dm.txt'))\n"
   ]
  },
  {
   "cell_type": "code",
   "execution_count": 33,
   "metadata": {
    "collapsed": false
   },
   "outputs": [
    {
     "data": {
      "text/plain": [
       "0.94886329570966543"
      ]
     },
     "execution_count": 33,
     "metadata": {},
     "output_type": "execute_result"
    }
   ],
   "source": [
    "np.mean(w_dm.data)"
   ]
  },
  {
   "cell_type": "code",
   "execution_count": 34,
   "metadata": {
    "collapsed": false
   },
   "outputs": [
    {
     "data": {
      "text/plain": [
       "0.998"
      ]
     },
     "execution_count": 34,
     "metadata": {},
     "output_type": "execute_result"
    }
   ],
   "source": [
    "np.median(w_dm.data)"
   ]
  },
  {
   "cell_type": "code",
   "execution_count": 35,
   "metadata": {
    "collapsed": false
   },
   "outputs": [
    {
     "data": {
      "text/plain": [
       "0.21858752796787567"
      ]
     },
     "execution_count": 35,
     "metadata": {},
     "output_type": "execute_result"
    }
   ],
   "source": [
    "4980239/22783729"
   ]
  },
  {
   "cell_type": "code",
   "execution_count": null,
   "metadata": {
    "collapsed": true
   },
   "outputs": [],
   "source": []
  }
 ],
 "metadata": {
  "kernelspec": {
   "display_name": "da-conda",
   "language": "python",
   "name": "auto_da-conda"
  },
  "language_info": {
   "codemirror_mode": {
    "name": "ipython",
    "version": 3
   },
   "file_extension": ".py",
   "mimetype": "text/x-python",
   "name": "python",
   "nbconvert_exporter": "python",
   "pygments_lexer": "ipython3",
   "version": "3.5.1"
  }
 },
 "nbformat": 4,
 "nbformat_minor": 0
}
