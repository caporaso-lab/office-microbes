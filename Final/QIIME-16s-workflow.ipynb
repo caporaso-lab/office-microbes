{
 "cells": [
  {
   "cell_type": "markdown",
   "metadata": {},
   "source": [
    "# Split Libraries"
   ]
  },
  {
   "cell_type": "markdown",
   "metadata": {},
   "source": [
    "###Run 1\n",
    "```bash\n",
    "split_libraries_fastq.py -i /scratch/jc33/office_analysis/office-fastqs/16s/run1_16s/Undetermined_S0_L001_R1_001.fastq -b /scratch/jc33/office_analysis/office-fastqs/16s/run1_16s/Undetermined_S0_L001_I1_001.fastq -m /scratch/jc33/office_analysis/barcode_maps/run1_16S_barcode_map.txt --rev_comp_mapping_barcodes -o  \n",
    "\n",
    "count_seqs.py -i run1/split_lib_out/seqs.fna\n",
    "```\n",
    "**\n",
    "11298269  : run1/split_lib_out/seqs.fna (Sequence lengths (mean +/- std): 250.9956 +/- 0.4605)\n",
    "11298269  : Total\n",
    "**\n",
    "\n",
    "###Run 2\n",
    "```bash\n",
    "split_libraries_fastq.py -i /scratch/jc33/office_analysis/office-fastqs/16s/run2_16s/Undetermined_S0_L001_R1_001.fastq -b /scratch/jc33/office_analysis/office-fastqs/16s/run2_16s/Undetermined_S0_L001_I1_001.fastq -m /scratch/jc33/office_analysis/barcode_maps/run2_16S_barcode_map_w_empty.txt --rev_comp_mapping_barcodes -o /scratch/jc33/office_analysis/16s/split_lib/run2/split_lib_out  \n",
    "\n",
    "count_seqs.py -i run2/split_lib_out/seqs.fna\n",
    "```\n",
    "**\n",
    "12297541  : seqs.fna (Sequence lengths (mean +/- std): 251.0000 +/- 0.0000)\n",
    "12297541  : Total\n",
    "**\n",
    "\n",
    "###Run 3\n",
    "```bash\n",
    "split_libraries_fastq.py -i /scratch/jc33/office_analysis/office-fastqs/16s/run3_16s/Undetermined_S0_L001_R1_001.fastq.gz -b /scratch/jc33/office_analysis/office-fastqs/16s/run3_16s/Undetermined_S0_L001_I1_001.fastq.gz -m /scratch/jc33/office_analysis/barcode_maps/run3_16s_barcode_map.txt --rev_comp_mapping_barcodes -o /scratch/jc33/office_analysis/16s/split_lib/run3/split_lib_out  \n",
    "\n",
    "\n",
    "count_seqs.py -i run3/split_lib_out/seqs.fna  \n",
    "```\n",
    "**\n",
    "10203369  : run3/split_lib_out/seqs.fna (Sequence lengths (mean +/- std): 151.0000 +/- 0.0000)\n",
    "10203369  : Total\n",
    "**\n",
    "\n",
    "###Rerun\n",
    "```bash\n",
    "srun split_libraries_fastq.py -i /scratch/jc33/office_analyis_add_replicates/split_lib_rer    un/ftp.igsb.anl.gov/jobs/f58775be0f7ed92d491edb8a174f39db/52214_fastqs/Undetermined_S0_L00    1_R1_001.fastq.gz -b /scratch/jc33/office_analyis_add_replicates/split_lib_rerun/ftp.igsb.    anl.gov/jobs/f58775be0f7ed92d491edb8a174f39db/52214_fastqs/Undetermined_S0_L001_I1_001.fas    tq.gz -m /scratch/jc33/office_analyis_add_replicates/split_lib_rerun/rerun_16s_barcode_map    .txt --rev_comp_mapping_barcodes -o /scratch/jc33/office_analyis_add_replicates/split_lib_rerun/split_lib_out  \n",
    "\n",
    "\n",
    "count_seqs.py -i seqs.fna\n",
    "```\n",
    "**\n",
    "895481  : seqs.fna (Sequence lengths (mean +/- std): 151.0000 +/- 0.0000)\n",
    "**"
   ]
  },
  {
   "cell_type": "markdown",
   "metadata": {},
   "source": [
    "##Trimmed read workflow\n",
    "code to trim reads"
   ]
  },
  {
   "cell_type": "markdown",
   "metadata": {},
   "source": [
    "```python\n",
    "import skbio \n",
    " \n",
    "seqs_trimmed = open('seqs_trimmed.fna', 'w')  \n",
    "\n",
    "for seq in skbio.io.read('seqs.fna', format='fasta'):\n",
    "    seqs_trimmed.write('>' + seq.id + ' ' + seq.description)\n",
    "    seqs_trimmed.write('\\n')\n",
    "    seqs_trimmed.write(str(seq[:151]))\n",
    "    seqs_trimmed.write('\\n')\n",
    "```"
   ]
  },
  {
   "cell_type": "markdown",
   "metadata": {},
   "source": [
    "# Pick Open Reference OTUs"
   ]
  },
  {
   "cell_type": "markdown",
   "metadata": {},
   "source": [
    "```bash\n",
    "cat /scratch/jc33/params.txt \n",
    "```\n",
    "**\n",
    "pick_otus:enable_rev_strand_match True  \n",
    "pick_otus:max_accepts 1  \n",
    "pick_otus:max_rejects 8  \n",
    "pick_otus:stepwords 8  \n",
    "pick_otus:word_length  \n",
    "pick_otus:similarity 1  \n",
    "make_emperor:ignore_missing_samples  \n",
    "**\n",
    "\n",
    "```bash\n",
    "pick_open_reference_otus.py -i /scratch/jc33/office_analyis_add_replicates/split_lib/run1/split_lib_out/seqs_trimmed.fna,/scratch/jc33/office_analyis_add_replicates/split_lib/run2/sp    lit_lib_out/seqs_trimmed.fna,/scratch/jc33/office_analyis_add_replicates/split_lib/run3/split_lib_out/seqs.fna,/scratch/jc33/office_analyis_add_replicates/split_lib_rerun/split_lib_out/seqs.fna -o /scratch/jc33/office_analyis_add_replicates/pick_otus/pick_otus_out_100 -p /scratch/jc33/office_analyis_add_replicates/pick_otus/params.txt -aO 40\n",
    "```"
   ]
  },
  {
   "cell_type": "markdown",
   "metadata": {},
   "source": [
    "# Core Diversity Analysis"
   ]
  },
  {
   "cell_type": "markdown",
   "metadata": {},
   "source": [
    "```bash\n",
    "core_diversity_analyses.py -i /home/johnchase/projects/office_analysis/16s/pick_otus/pick_otus_out/otu_table_mc2_w_tax_no_pynast_failures.biom -o /home/johnchase/projects/office_analysis/16s/core_div/core_div_out -m /home/johnchase/projects/office_analysis/master_map.txt -e 1000 -aO 29 -t /home/johnchase/projects/office_analysis/16s/pick_otus/pick_otus_out/rep_set.tre -c City,OfficeNumber,PlateLocation,Row,Run,Period\n",
    "```"
   ]
  },
  {
   "cell_type": "code",
   "execution_count": null,
   "metadata": {
    "collapsed": true
   },
   "outputs": [],
   "source": []
  }
 ],
 "metadata": {
  "kernelspec": {
   "display_name": "qiime-conda",
   "language": "python",
   "name": "auto_qiime-conda"
  },
  "language_info": {
   "codemirror_mode": {
    "name": "ipython",
    "version": 2
   },
   "file_extension": ".py",
   "mimetype": "text/x-python",
   "name": "python",
   "nbconvert_exporter": "python",
   "pygments_lexer": "ipython2",
   "version": "2.7.10"
  }
 },
 "nbformat": 4,
 "nbformat_minor": 0
}
