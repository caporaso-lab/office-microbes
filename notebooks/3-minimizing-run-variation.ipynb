{
 "cells": [
  {
   "cell_type": "markdown",
   "metadata": {},
   "source": [
    "This notebook is similar to the run-to-run stuff, however will only include the steps necessary for filtering the tables and running beta diversity. The actual analysis of this output should be included in the run-to-run notebook"
   ]
  },
  {
   "cell_type": "code",
   "execution_count": 2,
   "metadata": {
    "collapsed": true
   },
   "outputs": [],
   "source": [
    "%matplotlib inline\n",
    "import pandas as pd\n",
    "from skbio import DistanceMatrix\n",
    "from os.path import join\n",
    "from skbio.stats.ordination import pcoa"
   ]
  },
  {
   "cell_type": "markdown",
   "metadata": {},
   "source": [
    "Load the mapping file and filter it to 16S\n",
    "------------"
   ]
  },
  {
   "cell_type": "code",
   "execution_count": 3,
   "metadata": {
    "collapsed": false
   },
   "outputs": [],
   "source": [
    "home = '/home/office-microbe-files'\n",
    "map_fp = join(home, 'master_map_150908.txt')"
   ]
  },
  {
   "cell_type": "code",
   "execution_count": 4,
   "metadata": {
    "collapsed": true
   },
   "outputs": [],
   "source": [
    "sample_md = pd.read_csv(map_fp, sep='\\t', index_col=0, dtype=str)\n",
    "sample_md = sample_md[sample_md['16SITS'] == '16S']"
   ]
  },
  {
   "cell_type": "markdown",
   "metadata": {},
   "source": [
    "create directory structure\n",
    "-------------------\n",
    "```bash\n",
    "mkdir run-13\n",
    "mkdir run-13/blanks\n",
    "mkdir run-13/blanks/10 run-13/blanks/100 run-13/blanks/1000\n",
    "cp -r run-13/blanks/ run-13/sl\n",
    "cp -r run-13/ run-23\n",
    "```\n"
   ]
  },
  {
   "cell_type": "markdown",
   "metadata": {},
   "source": [
    "Filter OTU table to be 1-3 and 2-3 samples only\n",
    "-------------------\n",
    "The first thing to do is to filter the OTU tables down into two different OTU tables, one that contains just run 1 and 2 samples, and another that only contains run 1 and 3. This is a bit weird, but these are the only combinations that have techincal replicates, and they don't overlap..."
   ]
  },
  {
   "cell_type": "code",
   "execution_count": 5,
   "metadata": {
    "collapsed": false
   },
   "outputs": [],
   "source": [
    "run_1_3_ids = sample_md[(sample_md[\"Run\"] == \"1\") | (sample_md[\"Run\"] == \"3\")].index\n",
    "run_1_3_fp = open(\"run-13/samples_to_filter.txt\", \"w\")\n",
    "run_1_3_fp.write('\\n'.join(run_1_3_ids))\n",
    "run_1_3_fp.close()"
   ]
  },
  {
   "cell_type": "code",
   "execution_count": 6,
   "metadata": {
    "collapsed": false
   },
   "outputs": [],
   "source": [
    "run_2_3_ids = sample_md[(sample_md[\"Run\"] == \"2\") | (sample_md[\"Run\"] == \"3\")].index\n",
    "run_2_3_fp = open(\"run-23/samples_to_filter.txt\", \"w\")\n",
    "run_2_3_fp.write('\\n'.join(run_2_3_ids))\n",
    "run_2_3_fp.close()"
   ]
  },
  {
   "cell_type": "markdown",
   "metadata": {},
   "source": [
    "###QIIME commands for filtering OTU tables  \n",
    "\n",
    "```bash\n",
    "filter_samples_from_otu_table.py -i /home/office-microbe-files/pick_otus_out_97/otu_table_mc2_w_tax_no_pynast_failures.biom -o run-13/otu-table.biom --sample_id_fp run-13/samples_to_filter.txt\n",
    "\n",
    "filter_samples_from_otu_table.py -i /home/office-microbe-files/pick_otus_out_97/otu_table_mc2_w_tax_no_pynast_failures.biom -o run-23/otu-table.biom --sample_id_fp run-23/samples_to_filter.txt\n",
    "```\n"
   ]
  },
  {
   "cell_type": "markdown",
   "metadata": {},
   "source": [
    "Find the most abundant taxa in the blank samples\n",
    "-----------------------------"
   ]
  },
  {
   "cell_type": "markdown",
   "metadata": {},
   "source": [
    "This should probably not be done on the rarefied tables as we are assuming that this is contamination."
   ]
  },
  {
   "cell_type": "markdown",
   "metadata": {},
   "source": [
    "##1. First we should find the most abundant OTUs in each run"
   ]
  },
  {
   "cell_type": "code",
   "execution_count": 7,
   "metadata": {
    "collapsed": false
   },
   "outputs": [],
   "source": [
    "table_fp = join(home, 'pick_otus_out_97/otu_table_mc2_w_tax_no_pynast_failures.txt')\n",
    "table = pd.read_csv(table_fp, sep='\\t', skiprows=1, index_col=0, dtype=\"object\")\n",
    "table.index = table.index.astype(str)"
   ]
  },
  {
   "cell_type": "code",
   "execution_count": 8,
   "metadata": {
    "collapsed": false
   },
   "outputs": [],
   "source": [
    "def get_ids(sample_metadata, otu_table, run, n_otus):\n",
    "    run_ids = sample_metadata[(sample_metadata['Run'] == run) & (sample_metadata['OfficeSample'] == 'no')].index\n",
    "    run_otus = otu_table[list(set(run_ids) & set(otu_table.columns))].sum(axis=1)\n",
    "    run_otus = run_otus.sort(ascending=False, inplace=False)[:n_otus].index.tolist()\n",
    "    return run_otus"
   ]
  },
  {
   "cell_type": "markdown",
   "metadata": {},
   "source": [
    "While some of the OTU IDs might overlap here, we are still taking the top n for each run"
   ]
  },
  {
   "cell_type": "code",
   "execution_count": 9,
   "metadata": {
    "collapsed": false
   },
   "outputs": [
    {
     "name": "stdout",
     "output_type": "stream",
     "text": [
      "12\n",
      "13\n",
      "12\n",
      "13\n",
      "12\n",
      "13\n"
     ]
    }
   ],
   "source": [
    "#This is slow and stupid but it works.\n",
    "\n",
    "runs = ['12', '13']\n",
    "n_otus = [10, 100, 1000]\n",
    "for n_otu in n_otus:\n",
    "    for run in runs:\n",
    "        print(run)\n",
    "        run_1_otus = get_ids(sample_md, table, \"1\", n_otu)\n",
    "        run_2_otus = get_ids(sample_md, table, \"2\", n_otu)\n",
    "        run_3_otus = get_ids(sample_md, table, \"3\", n_otu)\n",
    "#         otu_fp = 'run-{0}/blanks/{1}/otus-to-filter.txt'.format(run, n_otu)\n",
    "#         print(otu_fp)\n",
    "#         if run == '12':\n",
    "#             otus = '\\n'.join(run_1_otus + run_2_otus)\n",
    "#         else:\n",
    "#             otus = '\\n'.join(run_1_otus + run_3_otus)\n",
    "#         otus_fp = open('run-{0}/blanks/{1}/otus-to-filter.txt'.format(run, n_otu), 'w')\n",
    "#         otus_fp.write(otus)\n",
    "#         otus_fp.close()\n",
    "    "
   ]
  },
  {
   "cell_type": "code",
   "execution_count": 10,
   "metadata": {
    "collapsed": false
   },
   "outputs": [
    {
     "data": {
      "text/plain": [
       "['356226', '570350', '268220', '1566691', '1131894']"
      ]
     },
     "execution_count": 10,
     "metadata": {},
     "output_type": "execute_result"
    }
   ],
   "source": [
    "run_1_otus[:5]"
   ]
  },
  {
   "cell_type": "markdown",
   "metadata": {},
   "source": [
    "2. Filter those samples from the OTU tables\n",
    "------------------------------"
   ]
  },
  {
   "cell_type": "markdown",
   "metadata": {},
   "source": [
    "```bash\n",
    "filter_otus_from_otu_table.py -i run-12/otu-table.biom -e run-12/blanks/10/otus-to-filter.txt -o run-12/blanks/10/blank_filtered_table.biom\n",
    "\n",
    "filter_otus_from_otu_table.py -i run-13/otu-table.biom -e run-13/blanks/10/otus-to-filter.txt -o run-13/blanks/10/blank_filtered_table.biom\n",
    "\n",
    "filter_otus_from_otu_table.py -i run-12/otu-table.biom -e run-12/blanks/100/otus-to-filter.txt -o run-12/blanks/100/blank_filtered_table.biom\n",
    "\n",
    "filter_otus_from_otu_table.py -i run-13/otu-table.biom -e run-13/blanks/100/otus-to-filter.txt -o run-13/blanks/100/blank_filtered_table.biom\n",
    "\n",
    "filter_otus_from_otu_table.py -i run-12/otu-table.biom -e run-12/blanks/1000/otus-to-filter.txt -o run-12/blanks/1000/blank_filtered_table.biom\n",
    "\n",
    "filter_otus_from_otu_table.py -i run-13/otu-table.biom -e run-13/blanks/1000/otus-to-filter.txt -o run-13/blanks/1000/blank_filtered_table.biom\n",
    "```"
   ]
  },
  {
   "cell_type": "markdown",
   "metadata": {
    "collapsed": true
   },
   "source": [
    "3. Rarefy tables\n",
    "--------------"
   ]
  },
  {
   "cell_type": "markdown",
   "metadata": {
    "collapsed": true
   },
   "source": [
    "```bash\n",
    "single_rarefaction.py -i run-12/otu-table.biom-o run-12/rarefied_table.biom -d 1000\n",
    "\n",
    "single_rarefaction.py -i run-13/otu-table.biom-o run-13/rarefied_table.biom -d 1000\n",
    "\n",
    "single_rarefaction.py -i run-12/blanks/10/blank_filtered_table.biom -o run-12/blanks/10/rarefied_blank_filtered_table.biom -d 1000\n",
    "\n",
    "single_rarefaction.py -i run-13/blanks/10/blank_filtered_table.biom -o run-13/blanks/10/rarefied_blank_filtered_table.biom -d 1000\n",
    "\n",
    "single_rarefaction.py -i run-12/blanks/100/blank_filtered_table.biom -o run-12/blanks/100/rarefied_blank_filtered_table.biom -d 1000\n",
    "\n",
    "single_rarefaction.py -i run-13/blanks/100/blank_filtered_table.biom -o run-13/blanks/100/rarefied_blank_filtered_table.biom -d 1000\n",
    "\n",
    "single_rarefaction.py -i run-12/blanks/1000/blank_filtered_table.biom -o run-12/blanks/1000/rarefied_blank_filtered_table.biom -d 1000\n",
    "\n",
    "single_rarefaction.py -i run-13/blanks/1000/blank_filtered_table.biom -o run-13/blanks/1000/rarefied_blank_filtered_table.biom -d 1000\n",
    "```"
   ]
  },
  {
   "cell_type": "markdown",
   "metadata": {
    "collapsed": true
   },
   "source": [
    "4. Run beta diversity on those files\n",
    "--------------------"
   ]
  },
  {
   "cell_type": "markdown",
   "metadata": {
    "collapsed": true
   },
   "source": [
    "```bash\n",
    "parallel_beta_diversity.py -i run-12/rarefied_table.biom -o run-12/bd_out -O 30 -t /home/office-microbe-files/pick_otus_out_97/rep_set.tre\n",
    "\n",
    "parallel_beta_diversity.py -i run-13/rarefied_table.biom -o run-13/bd_out -O 30 -t /home/office-microbe-files/pick_otus_out_97/rep_set.tre\n",
    "\n",
    "parallel_beta_diversity.py -i run-12/blanks/10/rarefied_blank_filtered_table.biom -o run-12/blanks/10/bd_out -O 30 -t /home/office-microbe-files/pick_otus_out_97/rep_set.tre\n",
    "\n",
    "parallel_beta_diversity.py -i run-13/blanks/10/rarefied_blank_filtered_table.biom -o run-13/blanks/10/bd_out -O 30 -t /home/office-microbe-files/pick_otus_out_97/rep_set.tre\n",
    "\n",
    "parallel_beta_diversity.py -i run-12/blanks/100/rarefied_blank_filtered_table.biom -o run-12/blanks/100/bd_out -O 30 -t /home/office-microbe-files/pick_otus_out_97/rep_set.tre\n",
    "\n",
    "parallel_beta_diversity.py -i run-13/blanks/100/rarefied_blank_filtered_table.biom -o run-13/blanks/100/bd_out -O 30 -t /home/office-microbe-files/pick_otus_out_97/rep_set.tre\n",
    "\n",
    "parallel_beta_diversity.py -i run-12/blanks/1000/rarefied_blank_filtered_table.biom -o run-12/blanks/1000/bd_out -O 30 -t /home/office-microbe-files/pick_otus_out_97/rep_set.tre\n",
    "\n",
    "parallel_beta_diversity.py -i run-13/blanks/1000/rarefied_blank_filtered_table.biom -o run-13/blanks/1000/bd_out -O 30 -t /home/office-microbe-files/pick_otus_out_97/rep_set.tre\n",
    "```"
   ]
  },
  {
   "cell_type": "markdown",
   "metadata": {},
   "source": [
    "5. Now, supervised learning\n",
    "-------------------------"
   ]
  },
  {
   "cell_type": "code",
   "execution_count": null,
   "metadata": {
    "collapsed": true
   },
   "outputs": [],
   "source": [
    "figure out what I have replicates of"
   ]
  }
 ],
 "metadata": {
  "kernelspec": {
   "display_name": "q2d2-conda",
   "language": "python",
   "name": "auto_q2d2-conda"
  },
  "language_info": {
   "codemirror_mode": {
    "name": "ipython",
    "version": 3
   },
   "file_extension": ".py",
   "mimetype": "text/x-python",
   "name": "python",
   "nbconvert_exporter": "python",
   "pygments_lexer": "ipython3",
   "version": "3.4.3"
  }
 },
 "nbformat": 4,
 "nbformat_minor": 0
}
