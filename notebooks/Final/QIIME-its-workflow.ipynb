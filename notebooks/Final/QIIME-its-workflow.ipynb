{
 "cells": [
  {
   "cell_type": "markdown",
   "metadata": {},
   "source": [
    "# Split Libraries"
   ]
  },
  {
   "cell_type": "markdown",
   "metadata": {},
   "source": [
    "```bash\n",
    "split_libraries_fastq.py -i /scratch/jc33/office_analysis/office-fastqs/its/run1_its/Undetermined_S0_L001_R1_001.fastq.gz -b /scratch    /jc33/office_analysis/office-fastqs/its/run1_its/Undetermined_S0_L001_I1_001.fastq.gz -m /scratch/jc33/office_analysis/barcode_maps/run1_its_barcode_map.txt -o /scratch/jc33/office_analysis/its/split_lib/run1/split_lib_out --rev_comp_mapping_barcodes\n",
    "```\n",
    "**\n",
    "7849966  : run1/split_lib_out/seqs.fna (Sequence lengths (mean +/- std): 251.0000 +/- 0.0000)\n",
    "7849966  : Total\n",
    "**\n",
    "```bash\n",
    "split_libraries_fastq.py -i /scratch/jc33/office_analysis/office-fastqs/its/run2_its/Undetermined_S0_L001_R1_001.fastq.gz -b /scratch/jc33/office_analysis/office-fastqs/its/run2_its/Undetermined_S0_L001_I1_001.fastq.gz -m /scratch/jc33/office_analysis/barcode_maps/run2_its_barcode_map.txt -o /scratch/jc33/office_analysis/its/split_lib/run2/split_lib_out --rev_comp_mapping_barcodes\n",
    "```\n",
    "**\n",
    "10076860  : run2/split_lib_out/seqs.fna (Sequence lengths (mean +/- std): 251.0000 +/- 0.0000)\n",
    "10076860  : Total\n",
    "**\n",
    "```bash\n",
    "split_libraries_fastq.py -i /scratch/jc33/office_analysis/office-fastqs/its/run3_its/Undetermined_S0_L001_R1_001.fastq.gz -b /scratch/jc33/office_analysis/office-fastqs/its/run3_its/Undetermined_S0_L001_I1_001.fastq.gz -m /scratch/jc33/office_analysis/barcode_maps/run3_its_barcode_map.txt -o /scratch/jc33/office_analysis/its/split_lib/run3/split_lib_out --rev_comp_mapping_barcodes\n",
    "```\n",
    "**\n",
    "12589606  : run3/split_lib_out/seqs.fna (Sequence lengths (mean +/- std): 251.0000 +/- 0.0000)\n",
    "12589606  : Total\n",
    "**"
   ]
  },
  {
   "cell_type": "code",
   "execution_count": 1,
   "metadata": {
    "collapsed": false
   },
   "outputs": [
    {
     "data": {
      "text/plain": [
       "30516432"
      ]
     },
     "execution_count": 1,
     "metadata": {},
     "output_type": "execute_result"
    }
   ],
   "source": [
    "7849966 + 10076860 + 12589606"
   ]
  },
  {
   "cell_type": "markdown",
   "metadata": {},
   "source": [
    "# Pick Open Reference OTUs\n"
   ]
  },
  {
   "cell_type": "markdown",
   "metadata": {},
   "source": [
    "```bash\n",
    "cat /home/johnchase/projects/office_analysis/its/ghost-tree/pick_otus/params.txt  \n",
    "```\n",
    "**\n",
    "assign_taxonomy:id_to_taxonomy_fp /scratch/jc33/office_analysis/its/pick_otus_closed/ghost-tree-files/sh_qiime_release_s_30.12.2014/sh_taxonomy_qiime_ver6_dynamic_s_30.12.2014.txt  \n",
    "assign_taxonomy:reference_seqs_fp /scratch/jc33/office_analysis/its/pick_otus_closed/ghost-tree-files/sh_qiime_release_s_30.12.2014/sh_refs_qiime_ver6_dynamic_s_30.12.2014.fasta  \n",
    "pick_otus:enable_rev_strand_match True  \n",
    "**\n",
    "\n",
    "```bash\n",
    "pick_open_reference_otus.py -i /scratch/jc33/office_analysis/its/pick_otus/all_seqs_trimmed.fna -o /scratch/jc33/office_analysis/its/pick_otus/pick_open_otus/otus_out -aO 64 -p /scratch/jc33/office_analysis/its/pick_otus/params.txt -r /scratch/jc33/office_analysis/its/pick_otus/ghost-tree-files/sh_qiime_release_s_30.12.2014/sh_refs_qiime_ver6_dynamic_s_30.12.2014.fasta --suppress_align_and_tree\n",
    "```"
   ]
  },
  {
   "cell_type": "markdown",
   "metadata": {},
   "source": [
    "#Core Diversity Analyses"
   ]
  },
  {
   "cell_type": "markdown",
   "metadata": {},
   "source": [
    "```bash\n",
    "core_diversity_analyses.py -i /scratch/jc33/office_analysis/its/pick_otus/pick_otus_out/otu_table_mc2_w_tax.biom -o /scratch/jc33/office_analysis/its/core_div/core_div_out -m /scratc    h/jc33/office_analysis/master_map_150908.txt -e 1000 -aO 64 -c City,OfficeNumber,PlateLocation,Row,Run,Period --nonphylogenetic_diversity\n",
    "```"
   ]
  },
  {
   "cell_type": "code",
   "execution_count": null,
   "metadata": {
    "collapsed": true
   },
   "outputs": [],
   "source": []
  }
 ],
 "metadata": {
  "kernelspec": {
   "display_name": "qiime-conda",
   "language": "python",
   "name": "auto_qiime-conda"
  },
  "language_info": {
   "codemirror_mode": {
    "name": "ipython",
    "version": 2
   },
   "file_extension": ".py",
   "mimetype": "text/x-python",
   "name": "python",
   "nbconvert_exporter": "python",
   "pygments_lexer": "ipython2",
   "version": "2.7.10"
  }
 },
 "nbformat": 4,
 "nbformat_minor": 0
}
