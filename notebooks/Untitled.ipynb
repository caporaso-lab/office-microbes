{
 "cells": [
  {
   "cell_type": "markdown",
   "metadata": {
    "collapsed": true
   },
   "source": [
    "This notebook will randomly subsample OTU tables down to 100 samples so that we can at least see what is going on with that "
   ]
  },
  {
   "cell_type": "code",
   "execution_count": 1,
   "metadata": {
    "collapsed": false
   },
   "outputs": [],
   "source": [
    "import pandas as pd\n",
    "import numpy as np\n",
    "from glob import glob\n",
    "from os.path import join"
   ]
  },
  {
   "cell_type": "code",
   "execution_count": 2,
   "metadata": {
    "collapsed": false
   },
   "outputs": [],
   "source": [
    "from IPython.parallel import Client\n",
    "import pandas as pd\n",
    "import numpy as np\n",
    "rc = Client(profile='data-analysis-conda')\n",
    "dview = rc[:]"
   ]
  },
  {
   "cell_type": "code",
   "execution_count": 3,
   "metadata": {
    "collapsed": true
   },
   "outputs": [],
   "source": [
    "pwd = '/home/johnchase/office-project/office-microbes/notebooks/'\n",
    "output_dir = join(pwd, 'filtered_replicate_tables/')"
   ]
  },
  {
   "cell_type": "code",
   "execution_count": 4,
   "metadata": {
    "collapsed": false
   },
   "outputs": [],
   "source": [
    "fps = glob('/home/johnchase/office-project/office-microbes/notebooks/replicate_filtered_tables/filtered_tables/table_*_otus_*.txt')"
   ]
  },
  {
   "cell_type": "code",
   "execution_count": 5,
   "metadata": {
    "collapsed": false
   },
   "outputs": [],
   "source": [
    "def subsample_table(filepath, pwd='/home/johnchase/office-project/office-microbes/notebooks/',\n",
    "                   output_dir='/home/johnchase/office-project/office-microbes/notebooks/filtered_replicate_tables/'):\n",
    "    filepath = join(pwd, filepath)\n",
    "    table = pd.read_csv(filepath, sep='\\t', index_col=0, dtype=object).astype('float')\n",
    "    table_100 = table[np.random.choice(table.columns, size=200, replace=False)]\n",
    "    output_fp = 'samples_200_' + filepath.split('/')[-1:][0]\n",
    "    table_100.to_csv(join(output_dir, output_fp), sep='\\t')\n",
    "    return join(output_dir, output_fp)"
   ]
  },
  {
   "cell_type": "code",
   "execution_count": 6,
   "metadata": {
    "collapsed": false
   },
   "outputs": [],
   "source": [
    "h = dview.map_sync(subsample_table, fps)"
   ]
  },
  {
   "cell_type": "code",
   "execution_count": 7,
   "metadata": {
    "collapsed": false
   },
   "outputs": [
    {
     "name": "stdout",
     "output_type": "stream",
     "text": [
      "/home/johnchase/office-project/office-microbes/notebooks/filtered_replicate_tables/samples_200_table_23_otus_1000.txt\n",
      "/home/johnchase/office-project/office-microbes/notebooks/filtered_replicate_tables/samples_200_table_13_otus_100.txt\n",
      "/home/johnchase/office-project/office-microbes/notebooks/filtered_replicate_tables/samples_200_table_23_otus_10.txt\n",
      "/home/johnchase/office-project/office-microbes/notebooks/filtered_replicate_tables/samples_200_table_23_otus_100.txt\n",
      "/home/johnchase/office-project/office-microbes/notebooks/filtered_replicate_tables/samples_200_table_13_otus_1000.txt\n",
      "/home/johnchase/office-project/office-microbes/notebooks/filtered_replicate_tables/samples_200_table_13_otus_10.txt\n"
     ]
    }
   ],
   "source": [
    "for i in h:\n",
    "    print(i)"
   ]
  },
  {
   "cell_type": "markdown",
   "metadata": {},
   "source": [
    "```bash\n",
    "biom convert -i filtered_replicate_tables/samples_200_table_13_otus_10.txt --table-type \"OTU table\" --to-hdf5 -o filtered_replicate_tables/samples_100_table_13_otus_10.biom\n",
    "\n",
    "biom convert -i filtered_replicate_tables/samples_200_table_13_otus_100.txt --table-type \"OTU table\" --to-hdf5 -o filtered_replicate_tables/samples_100_table_13_otus_100.biom\n",
    "\n",
    "biom convert -i filtered_replicate_tables/samples_200_table_13_otus_1000.txt --table-type \"OTU table\" --to-hdf5 -o filtered_replicate_tables/samples_100_table_13_otus_1000.biom\n",
    "\n",
    "biom convert -i filtered_replicate_tables/samples_200_table_23_otus_10.txt --table-type \"OTU table\" --to-hdf5 -o filtered_replicate_tables/samples_100_table_23_otus_10.biom\n",
    "\n",
    "biom convert -i filtered_replicate_tables/samples_200_table_23_otus_100.txt --table-type \"OTU table\" --to-hdf5 -o filtered_replicate_tables/samples_100_table_23_otus_100.biom\n",
    "\n",
    "biom convert -i filtered_replicate_tables/samples_200_table_23_otus_1000.txt --table-type \"OTU table\" --to-hdf5 -o filtered_replicate_tables/samples_100_table_23_otus_1000.biom\n",
    "```"
   ]
  },
  {
   "cell_type": "code",
   "execution_count": null,
   "metadata": {
    "collapsed": true
   },
   "outputs": [],
   "source": []
  }
 ],
 "metadata": {
  "kernelspec": {
   "display_name": "data-analysis-conda",
   "language": "python",
   "name": "auto_data-analysis-conda"
  },
  "language_info": {
   "codemirror_mode": {
    "name": "ipython",
    "version": 3
   },
   "file_extension": ".py",
   "mimetype": "text/x-python",
   "name": "python",
   "nbconvert_exporter": "python",
   "pygments_lexer": "ipython3",
   "version": "3.4.3"
  }
 },
 "nbformat": 4,
 "nbformat_minor": 0
}
