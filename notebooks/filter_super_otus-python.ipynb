{
 "cells": [
  {
   "cell_type": "markdown",
   "metadata": {},
   "source": [
    "This notebook is going to be used to create tables where supervised learning can be run to determine the most different OTUs between the replicates, as well as the runs as a whole"
   ]
  },
  {
   "cell_type": "code",
   "execution_count": 1,
   "metadata": {
    "collapsed": false
   },
   "outputs": [
    {
     "name": "stderr",
     "output_type": "stream",
     "text": [
      ":0: FutureWarning: IPython widgets are experimental and may change in the future.\n"
     ]
    }
   ],
   "source": [
    "%matplotlib inline\n",
    "import pandas as pd\n",
    "from q2d2 import rarify\n",
    "from os.path import join\n",
    "from functools import partial"
   ]
  },
  {
   "cell_type": "code",
   "execution_count": 2,
   "metadata": {
    "collapsed": false
   },
   "outputs": [],
   "source": [
    "from IPython.parallel import Client\n",
    "clients = Client(profile='data-analysis-conda')\n",
    "dview = clients.direct_view()"
   ]
  },
  {
   "cell_type": "code",
   "execution_count": 3,
   "metadata": {
    "collapsed": true
   },
   "outputs": [],
   "source": [
    "home = '/home/office-microbe-files'\n",
    "notebooks = '/home/johnchase/office-project/office-microbes/notebooks'"
   ]
  },
  {
   "cell_type": "markdown",
   "metadata": {},
   "source": [
    "Load mapping file\n",
    "----------\n",
    "Load the mapping file and filter it to contain only 16S"
   ]
  },
  {
   "cell_type": "code",
   "execution_count": 4,
   "metadata": {
    "collapsed": false
   },
   "outputs": [],
   "source": [
    "map_fp = join(home, 'master_map_150908.txt')\n",
    "sample_md = pd.read_csv(map_fp, sep='\\t', index_col=0, dtype=str)\n",
    "sample_md = sample_md[sample_md['16SITS'] == '16S']"
   ]
  },
  {
   "cell_type": "markdown",
   "metadata": {},
   "source": [
    "Load the two tables\n",
    "----------------\n"
   ]
  },
  {
   "cell_type": "code",
   "execution_count": 5,
   "metadata": {
    "collapsed": false
   },
   "outputs": [],
   "source": [
    "table_13 = pd.read_csv('table_13.txt', sep='\\t', index_col=0, dtype='object').astype('float')\n",
    "table_23 = pd.read_csv('table_23.txt', sep='\\t', index_col=0, dtype='object').astype('float')"
   ]
  },
  {
   "cell_type": "markdown",
   "metadata": {},
   "source": [
    "Rarify the tables\n",
    "------------"
   ]
  },
  {
   "cell_type": "code",
   "execution_count": 6,
   "metadata": {
    "collapsed": false
   },
   "outputs": [],
   "source": [
    "rarify1000 = partial(rarify, even_sampling_depth=1000)\n",
    "df1, df2 = dview.map(rarify1000, [table_13, table_23])\n",
    "df1.to_csv('table_13_rarefied.txt', sep='\\t')\n",
    "df2.to_csv('table_23_rarefied.txt', sep='\\t')"
   ]
  },
  {
   "cell_type": "markdown",
   "metadata": {},
   "source": [
    "The replicate IDs are known. Although the replicate IDs could  be munged from the mapping file this will be faster and less error prone."
   ]
  },
  {
   "cell_type": "code",
   "execution_count": 7,
   "metadata": {
    "collapsed": true
   },
   "outputs": [],
   "source": [
    "#These are the replicate_ids\n",
    "replicate_ids = '''F2F.2.Ce.021\n",
    "F2F.2.Ce.022\n",
    "F2F.3.Ce.021\n",
    "F2F.3.Ce.022\n",
    "F2W.2.Ca.021\n",
    "F2W.2.Ca.022\n",
    "F2W.2.Ce.021\n",
    "F2W.2.Ce.022\n",
    "F3W.2.Ce.021\n",
    "F3W.2.Ce.022\n",
    "F1F.3.Ca.021\n",
    "F1F.3.Ca.022\n",
    "F1C.3.Ca.021\n",
    "F1C.3.Ca.022\n",
    "F1W.2.Ce.021\n",
    "F1W.2.Ce.022\n",
    "F1W.3.Dr.021\n",
    "F1W.3.Dr.022\n",
    "F1C.3.Dr.021\n",
    "F1C.3.Dr.022'''.split('\\n')"
   ]
  },
  {
   "cell_type": "code",
   "execution_count": 8,
   "metadata": {
    "collapsed": false
   },
   "outputs": [],
   "source": [
    "office_md = sample_md[sample_md['OfficeSample'] == 'yes']\n",
    "office_md_13 = office_md[(office_md['Run'] == '1') | (office_md['Run'] == '3')]\n",
    "office_md_23 = office_md[(office_md['Run'] == '2') | (office_md['Run'] == '3')]\n",
    "reps_13 = office_md_13[office_md_13['Description'].isin(replicate_ids)]\n",
    "reps_23 = office_md_23[office_md_23['Description'].isin(replicate_ids)]"
   ]
  },
  {
   "cell_type": "code",
   "execution_count": 9,
   "metadata": {
    "collapsed": false
   },
   "outputs": [],
   "source": [
    "#this seems redundant but is necessary to keep only duplicates we want\n",
    "reps_13 = reps_13[reps_13.duplicated('Description', keep='last') | reps_13.duplicated('Description')]\n",
    "reps_23 = reps_23[reps_23.duplicated('Description', keep='last') | reps_23.duplicated('Description')]"
   ]
  },
  {
   "cell_type": "markdown",
   "metadata": {
    "collapsed": false
   },
   "source": [
    "now we have the 10 replicates from each group of runs that we are interested in\n",
    "'F2F.3.Ce.022' was not included in the map from Argonne so there are only 9 run 2-3 replicates"
   ]
  },
  {
   "cell_type": "markdown",
   "metadata": {},
   "source": [
    "Filter the unrarefied tables to include one the replicate samples\n",
    "-----------------"
   ]
  },
  {
   "cell_type": "code",
   "execution_count": 10,
   "metadata": {
    "collapsed": true
   },
   "outputs": [],
   "source": [
    "table_13_replicates = table_13[reps_13.index]\n",
    "table_23_replicates = table_23[reps_23.index]\n",
    "table_13_replicates.to_csv('replicate_filtered_tables/table_13_replicates.txt', sep='\\t')\n",
    "table_23_replicates.to_csv('replicate_filtered_tables/table_23_replicates.txt', sep='\\t')"
   ]
  },
  {
   "cell_type": "code",
   "execution_count": 11,
   "metadata": {
    "collapsed": false
   },
   "outputs": [],
   "source": [
    "table_13_replicates_rarified = rarify1000(table_13_replicates)\n",
    "table_23_replicates_rarified = rarify1000(table_23_replicates)\n",
    "table_13_replicates_rarified.to_csv('replicate_filtered_tables/table_13_replicates_rarified.txt', sep='\\t')\n",
    "table_23_replicates_rarified.to_csv('replicate_filtered_tables/table_23_replicates_rarified.txt', sep='\\t')"
   ]
  },
  {
   "cell_type": "markdown",
   "metadata": {},
   "source": [
    "The workflow\n",
    "-----------\n",
    "\n",
    "Unlike the previous example where I was looking at blanks I do want to rarefy the samples before comparing them. The idea being that in the blanks *anything* that was in the blanks should not have been there, whereas here we expect the composition to be relatively similar between replicates, however we want to rarefy so that we can compare them directly.\n",
    "\n",
    "1. Rarefy the full tables\n",
    "2. Compare the diffferences with beta diversity (this was done in the previous workflow)\n",
    "3. Filter tables to only contian replicate samples\n",
    "4. Compare these with supervised learning and/or differential abundance\n",
    "5. Filter out the top 10, 100, 1000 OTUs from the full table and rerun beta diversities\n",
    "\n",
    "Repeat the above steps, but this time compare the run to"
   ]
  },
  {
   "cell_type": "code",
   "execution_count": 12,
   "metadata": {
    "collapsed": false
   },
   "outputs": [
    {
     "data": {
      "text/html": [
       "<div>\n",
       "<table border=\"1\" class=\"dataframe\">\n",
       "  <thead>\n",
       "    <tr style=\"text-align: right;\">\n",
       "      <th></th>\n",
       "      <th>16SITS</th>\n",
       "      <th>BarcodeSequence</th>\n",
       "      <th>BlankExtraction</th>\n",
       "      <th>BlankSwab</th>\n",
       "      <th>City</th>\n",
       "      <th>Cooler</th>\n",
       "      <th>Date</th>\n",
       "      <th>Description</th>\n",
       "      <th>Duplicate</th>\n",
       "      <th>Event</th>\n",
       "      <th>...</th>\n",
       "      <th>Period</th>\n",
       "      <th>PlateLocation</th>\n",
       "      <th>ProjectID</th>\n",
       "      <th>Replicate</th>\n",
       "      <th>Row</th>\n",
       "      <th>Run</th>\n",
       "      <th>Time</th>\n",
       "      <th>TimeOfCollection</th>\n",
       "      <th>WeekDay</th>\n",
       "      <th>SampleType</th>\n",
       "    </tr>\n",
       "    <tr>\n",
       "      <th>#SampleID</th>\n",
       "      <th></th>\n",
       "      <th></th>\n",
       "      <th></th>\n",
       "      <th></th>\n",
       "      <th></th>\n",
       "      <th></th>\n",
       "      <th></th>\n",
       "      <th></th>\n",
       "      <th></th>\n",
       "      <th></th>\n",
       "      <th></th>\n",
       "      <th></th>\n",
       "      <th></th>\n",
       "      <th></th>\n",
       "      <th></th>\n",
       "      <th></th>\n",
       "      <th></th>\n",
       "      <th></th>\n",
       "      <th></th>\n",
       "      <th></th>\n",
       "      <th></th>\n",
       "    </tr>\n",
       "  </thead>\n",
       "  <tbody>\n",
       "    <tr>\n",
       "      <th>3OY7IWPU4ULSM</th>\n",
       "      <td>16S</td>\n",
       "      <td>GTTCCTCCATTA</td>\n",
       "      <td>no</td>\n",
       "      <td>no</td>\n",
       "      <td>flagstaff</td>\n",
       "      <td>NaN</td>\n",
       "      <td>8/6/13 16:45</td>\n",
       "      <td>F1F.3.Ca.021</td>\n",
       "      <td>yes</td>\n",
       "      <td>21</td>\n",
       "      <td>...</td>\n",
       "      <td>1</td>\n",
       "      <td>floor</td>\n",
       "      <td>F1F.3.Ca.021</td>\n",
       "      <td>yes</td>\n",
       "      <td>3</td>\n",
       "      <td>1</td>\n",
       "      <td>1645</td>\n",
       "      <td>16:45:00</td>\n",
       "      <td>Tuesday</td>\n",
       "      <td>office</td>\n",
       "    </tr>\n",
       "    <tr>\n",
       "      <th>MQ64KAEXGK27</th>\n",
       "      <td>16S</td>\n",
       "      <td>CCTGACACACAC</td>\n",
       "      <td>no</td>\n",
       "      <td>no</td>\n",
       "      <td>flagstaff</td>\n",
       "      <td>NaN</td>\n",
       "      <td>8/6/13</td>\n",
       "      <td>F1F.3.Ca.021</td>\n",
       "      <td>yes</td>\n",
       "      <td>21</td>\n",
       "      <td>...</td>\n",
       "      <td>1</td>\n",
       "      <td>floor</td>\n",
       "      <td>F1F.3.Ca.021</td>\n",
       "      <td>yes</td>\n",
       "      <td>3</td>\n",
       "      <td>3</td>\n",
       "      <td>1645</td>\n",
       "      <td>NaN</td>\n",
       "      <td>Tuesday</td>\n",
       "      <td>office</td>\n",
       "    </tr>\n",
       "    <tr>\n",
       "      <th>6H3VNIOXDI5T9</th>\n",
       "      <td>16S</td>\n",
       "      <td>CTATTAAGCGGC</td>\n",
       "      <td>no</td>\n",
       "      <td>no</td>\n",
       "      <td>flagstaff</td>\n",
       "      <td>NaN</td>\n",
       "      <td>8/6/13</td>\n",
       "      <td>F1F.3.Ca.021</td>\n",
       "      <td>yes</td>\n",
       "      <td>21</td>\n",
       "      <td>...</td>\n",
       "      <td>1</td>\n",
       "      <td>floor</td>\n",
       "      <td>F1F.3.Ca.021</td>\n",
       "      <td>yes</td>\n",
       "      <td>3</td>\n",
       "      <td>4</td>\n",
       "      <td>1645</td>\n",
       "      <td>NaN</td>\n",
       "      <td>Tuesday</td>\n",
       "      <td>office</td>\n",
       "    </tr>\n",
       "  </tbody>\n",
       "</table>\n",
       "<p>3 rows × 26 columns</p>\n",
       "</div>"
      ],
      "text/plain": [
       "              16SITS BarcodeSequence BlankExtraction BlankSwab       City  \\\n",
       "#SampleID                                                                   \n",
       "3OY7IWPU4ULSM    16S    GTTCCTCCATTA              no        no  flagstaff   \n",
       "MQ64KAEXGK27     16S    CCTGACACACAC              no        no  flagstaff   \n",
       "6H3VNIOXDI5T9    16S    CTATTAAGCGGC              no        no  flagstaff   \n",
       "\n",
       "              Cooler          Date   Description Duplicate Event    ...      \\\n",
       "#SampleID                                                           ...       \n",
       "3OY7IWPU4ULSM    NaN  8/6/13 16:45  F1F.3.Ca.021       yes    21    ...       \n",
       "MQ64KAEXGK27     NaN        8/6/13  F1F.3.Ca.021       yes    21    ...       \n",
       "6H3VNIOXDI5T9    NaN        8/6/13  F1F.3.Ca.021       yes    21    ...       \n",
       "\n",
       "              Period PlateLocation     ProjectID Replicate Row Run  Time  \\\n",
       "#SampleID                                                                  \n",
       "3OY7IWPU4ULSM      1         floor  F1F.3.Ca.021       yes   3   1  1645   \n",
       "MQ64KAEXGK27       1         floor  F1F.3.Ca.021       yes   3   3  1645   \n",
       "6H3VNIOXDI5T9      1         floor  F1F.3.Ca.021       yes   3   4  1645   \n",
       "\n",
       "              TimeOfCollection  WeekDay SampleType  \n",
       "#SampleID                                           \n",
       "3OY7IWPU4ULSM         16:45:00  Tuesday     office  \n",
       "MQ64KAEXGK27               NaN  Tuesday     office  \n",
       "6H3VNIOXDI5T9              NaN  Tuesday     office  \n",
       "\n",
       "[3 rows x 26 columns]"
      ]
     },
     "execution_count": 12,
     "metadata": {},
     "output_type": "execute_result"
    }
   ],
   "source": [
    "sample_md[sample_md['Description'] == 'F1F.3.Ca.021']"
   ]
  },
  {
   "cell_type": "code",
   "execution_count": 13,
   "metadata": {
    "collapsed": false
   },
   "outputs": [
    {
     "data": {
      "text/plain": [
       "146.0"
      ]
     },
     "execution_count": 13,
     "metadata": {},
     "output_type": "execute_result"
    }
   ],
   "source": [
    "table_13_replicates['MQ64KAEXGK27'].sum()"
   ]
  },
  {
   "cell_type": "code",
   "execution_count": null,
   "metadata": {
    "collapsed": true
   },
   "outputs": [],
   "source": []
  }
 ],
 "metadata": {
  "kernelspec": {
   "display_name": "data-analysis-conda",
   "language": "python",
   "name": "auto_data-analysis-conda"
  },
  "language_info": {
   "codemirror_mode": {
    "name": "ipython",
    "version": 3
   },
   "file_extension": ".py",
   "mimetype": "text/x-python",
   "name": "python",
   "nbconvert_exporter": "python",
   "pygments_lexer": "ipython3",
   "version": "3.4.3"
  }
 },
 "nbformat": 4,
 "nbformat_minor": 0
}
