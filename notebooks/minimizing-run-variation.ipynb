{
 "cells": [
  {
   "cell_type": "markdown",
   "metadata": {},
   "source": [
    "This notebook is similar to the run-to-run stuff, however will only include the steps necessary for filtering the tables and running beta diversity. The actual analysis of this output should be included in the run-to-run notebook"
   ]
  },
  {
   "cell_type": "code",
   "execution_count": 1,
   "metadata": {
    "collapsed": true
   },
   "outputs": [],
   "source": [
    "%matplotlib inline\n",
    "import pandas as pd\n",
    "from skbio import DistanceMatrix\n",
    "from os.path import join"
   ]
  },
  {
   "cell_type": "markdown",
   "metadata": {},
   "source": [
    "Load the mapping file and filter it to 16S\n",
    "------------"
   ]
  },
  {
   "cell_type": "code",
   "execution_count": 2,
   "metadata": {
    "collapsed": false
   },
   "outputs": [],
   "source": [
    "home = '/home/office-microbe-files'\n",
    "map_fp = join(home, 'master_map_150908.txt')"
   ]
  },
  {
   "cell_type": "code",
   "execution_count": 3,
   "metadata": {
    "collapsed": true
   },
   "outputs": [],
   "source": [
    "sample_md = pd.read_csv(map_fp, sep='\\t', index_col=0, dtype=str)\n",
    "sample_md = sample_md[sample_md['16SITS'] == '16S']"
   ]
  },
  {
   "cell_type": "markdown",
   "metadata": {},
   "source": [
    "create directory structure\n",
    "-------------------\n",
    "```bash\n",
    "mkdir run-12\n",
    "mkdir run-12/blanks\n",
    "mkdir run-12/blanks/10 run-12/blanks/100 run-12/blanks/1000\n",
    "cp -r run-12/blanks/ run-12/sl\n",
    "cp -r run-12/ run-13\n",
    "```"
   ]
  },
  {
   "cell_type": "code",
   "execution_count": null,
   "metadata": {
    "collapsed": true
   },
   "outputs": [],
   "source": []
  },
  {
   "cell_type": "markdown",
   "metadata": {},
   "source": [
    "Filter OTU table to be 1-2 and 1-3 samples only\n",
    "-------------------\n",
    "The first thing to do is to filter the OTU tables down into two different OTU tables, one that contains just run 1 and 2 samples, and another that only contains run 1 and 3. This is a bit weird, but these are the only combinations that have techincal replicates, and they don't overlap..."
   ]
  },
  {
   "cell_type": "code",
   "execution_count": 6,
   "metadata": {
    "collapsed": false
   },
   "outputs": [],
   "source": [
    "run_1_2_ids = sample_md[(sample_md[\"Run\"] == \"1\") | (sample_md[\"Run\"] == \"2\")].index\n",
    "run_1_2_fp = open(\"run-12/samples_to_filter.txt\", \"w\")\n",
    "run_1_2_fp.write('\\n'.join(run_1_2_ids))\n",
    "run_1_2_fp.close()"
   ]
  },
  {
   "cell_type": "code",
   "execution_count": 7,
   "metadata": {
    "collapsed": true
   },
   "outputs": [],
   "source": [
    "run_1_3_ids = sample_md[(sample_md[\"Run\"] == \"1\") | (sample_md[\"Run\"] == \"3\")].index\n",
    "run_1_3_fp = open(\"run-13/samples_to_filter.txt\", \"w\")\n",
    "run_1_3_fp.write('\\n'.join(run_1_3_ids))\n",
    "run_1_3_fp.close()"
   ]
  },
  {
   "cell_type": "markdown",
   "metadata": {},
   "source": [
    "###QIIME commands for filtering OTU tables  \n",
    "\n",
    "```bash\n",
    "filter_samples_from_otu_table.py -i /home/office-microbe-files/pick_otus_out_97/otu_table_mc2_w_tax_no_pynast_failures.biom -o run-12/otu-table.biom --sample_id_fp run-12/samples_to_filter.txt\n",
    "\n",
    "filter_samples_from_otu_table.py -i /home/office-microbe-files/pick_otus_out_97/otu_table_mc2_w_tax_no_pynast_failures.biom -o run-13/otu-table.biom --sample_id_fp run-13/samples_to_filter.txt\n",
    "```\n"
   ]
  },
  {
   "cell_type": "markdown",
   "metadata": {},
   "source": [
    "Find the most abundant taxa in the blank samples\n",
    "-----------------------------"
   ]
  },
  {
   "cell_type": "markdown",
   "metadata": {},
   "source": [
    "This should probably not be done on the rarefied tables as we are assuming that this is contamination."
   ]
  },
  {
   "cell_type": "markdown",
   "metadata": {},
   "source": [
    "##1. First we should find the most abundant OTUs in each run"
   ]
  },
  {
   "cell_type": "code",
   "execution_count": 8,
   "metadata": {
    "collapsed": false
   },
   "outputs": [],
   "source": [
    "table_fp = join(home, 'pick_otus_out_97/otu_table_mc2_w_tax_no_pynast_failures.txt')\n",
    "table = pd.read_csv(table_fp, sep='\\t', skiprows=1, index_col=0, dtype=\"object\")\n",
    "table.index = table.index.astype(str)"
   ]
  },
  {
   "cell_type": "code",
   "execution_count": 9,
   "metadata": {
    "collapsed": false
   },
   "outputs": [],
   "source": [
    "def get_ids(sample_metadata, otu_table, run, n_otus):\n",
    "    run_ids = sample_metadata[(sample_metadata['Run'] == run) & (sample_metadata['OfficeSample'] == 'no')].index\n",
    "    run_otus = otu_table[list(set(run_ids) & set(otu_table.columns))].sum(axis=1)\n",
    "    run_otus = run_otus.sort(ascending=False, inplace=False)[:n_otus].index.tolist()\n",
    "    return run_otus"
   ]
  },
  {
   "cell_type": "markdown",
   "metadata": {},
   "source": [
    "While some of the OTU IDs might overlap here, we are still taking the top 10 for each run"
   ]
  },
  {
   "cell_type": "code",
   "execution_count": 10,
   "metadata": {
    "collapsed": false
   },
   "outputs": [],
   "source": [
    "run_1_otus = get_ids(sample_md, table, \"1\", 10)\n",
    "run_2_otus = get_ids(sample_md, table, \"2\", 10)\n",
    "run_3_otus = get_ids(sample_md, table, \"3\", 10)"
   ]
  },
  {
   "cell_type": "code",
   "execution_count": 14,
   "metadata": {
    "collapsed": false
   },
   "outputs": [],
   "source": [
    "otus_1_2_fp = open('run-12/blanks/10/otus-to-filter.txt', 'w')\n",
    "otus_1_2_fp.write('\\n'.join(run_1_otus + run_2_otus))\n",
    "otus_1_2_fp.close()"
   ]
  },
  {
   "cell_type": "code",
   "execution_count": 15,
   "metadata": {
    "collapsed": true
   },
   "outputs": [],
   "source": [
    "otus_1_3_fp = open('run-13/blanks/10/otus-to-filter.txt', 'w')\n",
    "otus_1_3_fp.write('\\n'.join(run_1_otus + run_3_otus))\n",
    "otus_1_3_fp.close()"
   ]
  },
  {
   "cell_type": "markdown",
   "metadata": {},
   "source": [
    "2. Filter those samples from the OTU tables\n",
    "------------------------------"
   ]
  },
  {
   "cell_type": "markdown",
   "metadata": {},
   "source": [
    "```bash\n",
    "filter_otus_from_otu_table.py -i run-12/otu-table.biom -e run-12/blanks/10/otus-to-filter.txt -o run-12/blanks/10/blank_filtered_table.biom --negate_ids_to_exclude\n",
    "\n",
    "filter_otus_from_otu_table.py -i run-13/otu-table.biom -e run-13/blanks/10/otus-to-filter.txt -o run-13/blanks/10/blank_filtered_table.biom --negate_ids_to_exclude\n",
    "```"
   ]
  },
  {
   "cell_type": "markdown",
   "metadata": {
    "collapsed": true
   },
   "source": [
    "3. Rarefy tables\n",
    "--------------"
   ]
  },
  {
   "cell_type": "markdown",
   "metadata": {
    "collapsed": true
   },
   "source": [
    "```bash\n",
    "single_rarefaction.py -i run-12/blanks/10/blank_filtered_table.biom -o run-12/blanks/10/rarefied_blank_filtered_table.biom -d 1000\n",
    "\n",
    "single_rarefaction.py -i run-13/blanks/10/blank_filtered_table.biom -o run-13/blanks/10/rarefied_blank_filtered_table.biom -d 1000\n",
    "```"
   ]
  },
  {
   "cell_type": "markdown",
   "metadata": {
    "collapsed": true
   },
   "source": [
    "4. Run beta diversity on those files\n",
    "--------------------"
   ]
  },
  {
   "cell_type": "markdown",
   "metadata": {
    "collapsed": true
   },
   "source": [
    "```bash\n",
    "parallel_beta_diversity.py -i run-12/blanks/10/rarefied_blank_filtered_table.biom -o run-12/blanks/10/bd_out -O 20 -t /home/office-microbe-files/pick_otus_out_97/rep_set.tre\n",
    "```\n",
    "parallel_beta_diversity.py -i run-13/blanks/10/rarefied_blank_filtered_table.biom -o run-13/blanks/10/bd_out -O 20 -t /home/office-microbe-files/pick_otus_out_97/rep_set.tre\n"
   ]
  },
  {
   "cell_type": "code",
   "execution_count": null,
   "metadata": {
    "collapsed": true
   },
   "outputs": [],
   "source": []
  },
  {
   "cell_type": "code",
   "execution_count": null,
   "metadata": {
    "collapsed": true
   },
   "outputs": [],
   "source": []
  },
  {
   "cell_type": "code",
   "execution_count": 16,
   "metadata": {
    "collapsed": false
   },
   "outputs": [],
   "source": [
    "taxa_map_fp = join(home, 'pick_otus_out_97/uclust_assigned_taxonomy/rep_set_tax_assignments.txt')\n",
    "taxa_df = pd.read_csv(taxa_map_fp, sep='\\t', names=['TaxID', 'taxonomy'], index_col=0, usecols=[0, 1], dtype=object)"
   ]
  },
  {
   "cell_type": "code",
   "execution_count": 34,
   "metadata": {
    "collapsed": false
   },
   "outputs": [
    {
     "data": {
      "text/plain": [
       "'k__Bacteria; p__Proteobacteria; c__Alphaproteobacteria; o__Sphingomonadales; f__Sphingomonadaceae; g__Sphingobium; s__'"
      ]
     },
     "execution_count": 34,
     "metadata": {},
     "output_type": "execute_result"
    }
   ],
   "source": [
    "\n",
    "taxa_df['taxonomy']['570350']"
   ]
  },
  {
   "cell_type": "code",
   "execution_count": null,
   "metadata": {
    "collapsed": true
   },
   "outputs": [],
   "source": []
  }
 ],
 "metadata": {
  "kernelspec": {
   "display_name": "q2d2-conda",
   "language": "python",
   "name": "auto_q2d2-conda"
  },
  "language_info": {
   "codemirror_mode": {
    "name": "ipython",
    "version": 3
   },
   "file_extension": ".py",
   "mimetype": "text/x-python",
   "name": "python",
   "nbconvert_exporter": "python",
   "pygments_lexer": "ipython3",
   "version": "3.4.3"
  }
 },
 "nbformat": 4,
 "nbformat_minor": 0
}
